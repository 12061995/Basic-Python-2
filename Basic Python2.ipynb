{
 "cells": [
  {
   "cell_type": "code",
   "execution_count": null,
   "id": "bc43f1a3-bb68-49d2-910f-a80817d68ec6",
   "metadata": {},
   "outputs": [],
   "source": [
    "def reverse_string(input_string):\n",
    "    return input_string[::-1]\n",
    "\n",
    "input_string = \"Hello, World!\"\n",
    "reversed_string = reverse_string(input_string)\n",
    "print(reversed_string)\n"
   ]
  },
  {
   "cell_type": "code",
   "execution_count": null,
   "id": "efe422db-648e-43b5-a1e1-a85558e23837",
   "metadata": {},
   "outputs": [],
   "source": [
    "def is_palindrome(input_string):\n",
    "    \n",
    "    input_string = input_string.replace(\" \", \"\").lower()\n",
    "    \n",
    "    reversed_string = input_string[::-1]\n",
    "    return input_string == reversed_string\n",
    "\n",
    "input_string = \"A man a plan a canal Panama\"\n",
    "result = is_palindrome(input_string)\n",
    "if result:\n",
    "    print(f\"{input_string} is a palindrome.\")\n",
    "else:\n",
    "    print(f\"{input_string} is not a palindrome.\")\n"
   ]
  },
  {
   "cell_type": "code",
   "execution_count": null,
   "id": "b8e496b0-e342-40c8-954c-d410e27ac8d3",
   "metadata": {},
   "outputs": [],
   "source": [
    "input_string = \"Hello, World!\"\n",
    "uppercase_string = input_string.upper()\n",
    "print(uppercase_string)\n"
   ]
  },
  {
   "cell_type": "code",
   "execution_count": null,
   "id": "e029466a-1e80-4f20-a3d5-0364dc3ccecb",
   "metadata": {},
   "outputs": [],
   "source": [
    "input_string=\"Hello World!\"\n",
    "lowercase_string = input_string.lower()\n",
    "print(lowercase_string)"
   ]
  },
  {
   "cell_type": "code",
   "execution_count": null,
   "id": "fdcfdc0f-f469-4856-a94b-3f76cd981db5",
   "metadata": {},
   "outputs": [],
   "source": [
    "def count_vowels(input_string):\n",
    "    \n",
    "    vowels = set(\"AEIOUaeiou\")\n",
    "    \n",
    "    vowel_count = 0\n",
    "    \n",
    "    for char in input_string:\n",
    "        if char in vowels:\n",
    "            vowel_count += 1\n",
    "    \n",
    "    return vowel_count\n",
    "\n",
    "input_string = \"Hello, World!\"\n",
    "vowel_count = count_vowels(input_string)\n",
    "print(f\"The number of vowels in '{input_string}' is: {vowel_count}\")\n"
   ]
  },
  {
   "cell_type": "code",
   "execution_count": null,
   "id": "381e2f79-e9c0-4374-aec7-524d50e7bed4",
   "metadata": {},
   "outputs": [],
   "source": [
    "def count_consonants(input_string):\n",
    "    \n",
    "    consonants = \"bcdfghjklmnpqrstvwxyzBCDFGHJKLMNPQRSTVWXYZ\"\n",
    "    \n",
    "    consonant_count = 0\n",
    "    \n",
    "    for char in input_string:\n",
    "    \n",
    "        if char in consonants:\n",
    "            consonant_count += 1\n",
    "    \n",
    "    return consonant_count\n",
    "\n",
    "input_string = \"Hello, World!\"\n",
    "result = count_consonants(input_string)\n",
    "print(\"Number of consonants:\", result)\n"
   ]
  },
  {
   "cell_type": "code",
   "execution_count": null,
   "id": "a4f32379-a45f-4068-894b-f569c2a460b8",
   "metadata": {},
   "outputs": [],
   "source": [
    "def remove_whitespace(input_string):\n",
    "    \n",
    "    result_string = input_string.replace(\" \", \"\").replace(\"\\t\", \"\").replace(\"\\n\", \"\")\n",
    "    return result_string\n",
    "\n",
    "input_string = \"Hello  \\tWorld!\\nThis is a test.\"\n",
    "result = remove_whitespace(input_string)\n",
    "print(\"Result:\", result)\n"
   ]
  },
  {
   "cell_type": "code",
   "execution_count": null,
   "id": "2d30d4de-1bba-45fb-83b5-028e76eb2d78",
   "metadata": {},
   "outputs": [],
   "source": [
    "def string_length(input_string):\n",
    "    count = 0\n",
    "    for char in input_string:\n",
    "        count += 1\n",
    "    return count\n",
    "\n",
    "input_string = \"Hello, World!\"\n",
    "length = string_length(input_string)\n",
    "print(\"Length of the string:\", length)\n"
   ]
  },
  {
   "cell_type": "code",
   "execution_count": null,
   "id": "ca7066f7-2e9d-49d5-851a-52075f67fbe0",
   "metadata": {},
   "outputs": [],
   "source": [
    "def contains_word(input_string, word):\n",
    "    \n",
    "    return word in input_string\n",
    "\n",
    "input_string = \"Hello, World! This is a test.\"\n",
    "word_to_check = \"World\"\n",
    "result = contains_word(input_string, word_to_check)\n",
    "if result:\n",
    "    print(f\"The string contains the word '{word_to_check}'.\")\n",
    "else:\n",
    "    print(f\"The string does not contain the word '{word_to_check}'.\")\n"
   ]
  },
  {
   "cell_type": "code",
   "execution_count": null,
   "id": "476bf9cf-7760-4037-82ff-a781b0224822",
   "metadata": {},
   "outputs": [],
   "source": [
    "def replace_word(input_string, old_word, new_word):\n",
    "    \n",
    "    modified_string = input_string.replace(old_word, new_word)\n",
    "    return modified_string\n",
    "\n",
    "input_string = \"Hello, World! This is a test.\"\n",
    "old_word = \"World\"\n",
    "new_word = \"Universe\"\n",
    "result = replace_word(input_string, old_word, new_word)\n",
    "print(\"Modified string:\", result)\n"
   ]
  },
  {
   "cell_type": "code",
   "execution_count": null,
   "id": "d776cd1a-0cfe-4048-b267-3a6fad27acc4",
   "metadata": {},
   "outputs": [],
   "source": [
    "def count_word_occurrences(input_string, target_word):\n",
    "    words = input_string.split()\n",
    "    \n",
    "    word_count = 0\n",
    "    \n",
    "    for word in words:\n",
    "        if word == target_word:\n",
    "            word_count += 1\n",
    "    \n",
    "    return word_count\n",
    "\n",
    "input_string = \"This is a test. This test is just a simple test.\"\n",
    "target_word = \"test\"\n",
    "result = count_word_occurrences(input_string, target_word)\n",
    "print(f\"The word '{target_word}' appears {result} times in the string.\")\n"
   ]
  },
  {
   "cell_type": "code",
   "execution_count": null,
   "id": "cfb12584-aebb-451e-a6af-b64b57e79cb2",
   "metadata": {},
   "outputs": [],
   "source": [
    "def find_first_occurrence(input_string, target_word):\n",
    "    \n",
    "    index = input_string.find(target_word)\n",
    "    return index\n",
    "\n",
    "# Example usage:\n",
    "input_string = \"This is a test. This test is just a simple test.\"\n",
    "target_word = \"test\"\n",
    "result = find_first_occurrence(input_string, target_word)\n",
    "\n",
    "if result != -1:\n",
    "    print(f\"The first occurrence of '{target_word}' starts at index {result}.\")\n",
    "else:\n",
    "    print(f\"'{target_word}' not found in the string.\")\n"
   ]
  },
  {
   "cell_type": "code",
   "execution_count": null,
   "id": "9bd4c13f-8bb3-4cac-b53f-75dcf769a10d",
   "metadata": {},
   "outputs": [],
   "source": [
    "def find_last_occurrence(input_string, target_word):\n",
    "    \n",
    "    index = input_string.rfind(target_word)\n",
    "    return index\n",
    "\n",
    "# Example\n",
    "input_string = \"This is a test. This test is just a simple test.\"\n",
    "target_word = \"test\"\n",
    "result = find_last_occurrence(input_string, target_word)\n",
    "\n",
    "if result != -1:\n",
    "    print(f\"The last occurrence of '{target_word}' starts at index {result}.\")\n",
    "else:\n",
    "    print(f\"'{target_word}' not found in the string.\")\n"
   ]
  },
  {
   "cell_type": "code",
   "execution_count": null,
   "id": "3cba94a6-bb30-4c6e-bf45-7ba76d4b9f5d",
   "metadata": {},
   "outputs": [],
   "source": [
    "# Input string\n",
    "input_string = \"This is a sample sentence.\"\n",
    "word_list = input_string.split()\n",
    "\n",
    "print(word_list)\n"
   ]
  },
  {
   "cell_type": "code",
   "execution_count": null,
   "id": "71616c0d-cb71-4792-8c9a-d9981de4107c",
   "metadata": {},
   "outputs": [],
   "source": [
    "# List of words\n",
    "word_list = ['This', 'is', 'a', 'sample', 'sentence.']\n",
    "result_string = ' '.join(word_list)\n",
    "\n",
    "print(result_string)\n"
   ]
  },
  {
   "cell_type": "code",
   "execution_count": null,
   "id": "873f29e2-8850-457d-a89c-733a7a997b73",
   "metadata": {},
   "outputs": [],
   "source": [
    "\n",
    "input_string = \"This is a sample sentence.\"\n",
    "result_string = input_string.replace(' ', '_')\n",
    "\n",
    "print(result_string)\n"
   ]
  },
  {
   "cell_type": "code",
   "execution_count": null,
   "id": "d797c5db-7684-4902-aff9-c828b91ef3a8",
   "metadata": {},
   "outputs": [],
   "source": [
    "# Input string\n",
    "input_string = \"Hello, World! This is a test.\"\n",
    "\n",
    "word_to_check = \"Hello\"\n",
    "\n",
    "if input_string.startswith(word_to_check):\n",
    "    print(f\"The string starts with '{word_to_check}'.\")\n",
    "else:\n",
    "    print(f\"The string does not start with '{word_to_check}'.\")\n"
   ]
  },
  {
   "cell_type": "code",
   "execution_count": null,
   "id": "39de39d4-6848-480d-a76e-1af756e11faa",
   "metadata": {},
   "outputs": [],
   "source": [
    "# Input string\n",
    "input_string = \"Hello, World! This is a test.\"\n",
    "word_to_check = \"test.\"\n",
    "\n",
    "if input_string.endswith(word_to_check):\n",
    "    print(f\"The string ends with '{word_to_check}'.\")\n",
    "else:\n",
    "    print(f\"The string does not end with '{word_to_check}'.\")\n"
   ]
  },
  {
   "cell_type": "code",
   "execution_count": null,
   "id": "2ee22568-f0f8-405a-a479-a4b0699aa72b",
   "metadata": {},
   "outputs": [],
   "source": [
    "# Input string\n",
    "input_string = \"hello, world!\"\n",
    "title_case_string = input_string.title()\n",
    "\n",
    "print(title_case_string)\n"
   ]
  },
  {
   "cell_type": "code",
   "execution_count": null,
   "id": "1fda657d-96ce-4654-92cc-b6844eacc6fd",
   "metadata": {},
   "outputs": [],
   "source": [
    "def find_longest_word(input_string):\n",
    "    # Split the input string into words\n",
    "    words = input_string.split()\n",
    "    longest_word = \"\"\n",
    "    max_length = 0\n",
    "\n",
    "    for word in words:\n",
    "        word = word.strip(\".,!?\")\n",
    "\n",
    "        if len(word) > max_length:\n",
    "            longest_word = word\n",
    "            max_length = len(word)\n",
    "\n",
    "    return longest_word\n",
    "\n",
    "input_string = \"This is a test sentence with some longer words like elephant and hippopotamus.\"\n",
    "result = find_longest_word(input_string)\n",
    "print(\"Longest word:\", result)\n"
   ]
  },
  {
   "cell_type": "code",
   "execution_count": null,
   "id": "a78111af-5ee8-45b9-9a2a-48dd41327f31",
   "metadata": {},
   "outputs": [],
   "source": [
    "def find_shortest_word(input_string):\n",
    "    # Split the input string into words\n",
    "    words = input_string.split()\n",
    "\n",
    "    shortest_word = None\n",
    "    min_length = float('inf')  \n",
    "\n",
    "    \n",
    "    for word in words:\n",
    "        word = word.strip(\".,!?\")\n",
    "\n",
    "        if len(word) < min_length:\n",
    "            shortest_word = word\n",
    "            min_length = len(word)\n",
    "\n",
    "    return shortest_word\n",
    "\n",
    "input_string = \"This is a test sentence with some shorter words like cat and dog.\"\n",
    "result = find_shortest_word(input_string)\n",
    "print(\"Shortest word:\", result)\n"
   ]
  },
  {
   "cell_type": "code",
   "execution_count": null,
   "id": "292f5919-05ea-44e6-98b2-4cb31dce1b7b",
   "metadata": {},
   "outputs": [],
   "source": [
    "def reverse_words(input_string):\n",
    "    # Split the input string into words\n",
    "    words = input_string.split()\n",
    "\n",
    "    reversed_words = words[::-1]\n",
    "\n",
    "    reversed_string = ' '.join(reversed_words)\n",
    "\n",
    "    return reversed_string\n",
    "\n",
    "# Example usage:\n",
    "input_string = \"This is a test sentence.\"\n",
    "result = reverse_words(input_string)\n",
    "print(\"Reversed string:\", result)\n"
   ]
  },
  {
   "cell_type": "code",
   "execution_count": null,
   "id": "393a5aa7-fe21-4b1f-b9f7-e3a7ac5a17f8",
   "metadata": {},
   "outputs": [],
   "source": [
    "# Input string\n",
    "input_string = \"Hello123\"\n",
    "\n",
    "if input_string.isalnum():\n",
    "    print(\"The string is alphanumeric.\")\n",
    "else:\n",
    "    print(\"The string is not alphanumeric.\")\n"
   ]
  },
  {
   "cell_type": "code",
   "execution_count": null,
   "id": "58e75226-2d15-472e-81c0-e1003443c4b8",
   "metadata": {},
   "outputs": [],
   "source": [
    "import re\n",
    "\n",
    "def extract_digits(input_string):\n",
    "    \n",
    "    digits = re.findall(r'\\d', input_string)\n",
    "    digit_string = ''.join(digits)\n",
    "    \n",
    "    return digit_string\n",
    "\n",
    "# Example usage:\n",
    "input_string = \"The price of the product is $99.99\"\n",
    "result = extract_digits(input_string)\n",
    "print(\"Extracted digits:\", result)\n"
   ]
  },
  {
   "cell_type": "code",
   "execution_count": null,
   "id": "06d17bc2-7aa1-48fb-816d-9dca88afadf0",
   "metadata": {},
   "outputs": [],
   "source": [
    "def extract_alphabets(input_string):\n",
    "    \n",
    "    alphabet_string = \"\"\n",
    "    \n",
    "    for char in input_string:\n",
    "        if char.isalpha():\n",
    "            alphabet_string += char\n",
    "    \n",
    "    return alphabet_string\n",
    "\n",
    "# Example usage:\n",
    "input_string = \"The price of the product is $99.99\"\n",
    "result = extract_alphabets(input_string)\n",
    "print(\"Extracted alphabets:\", result)\n"
   ]
  },
  {
   "cell_type": "code",
   "execution_count": null,
   "id": "5ed51307-f96e-43ca-afad-d0feefadc893",
   "metadata": {},
   "outputs": [],
   "source": [
    "def count_uppercase_letters(input_string):\n",
    "    \n",
    "    uppercase_count = 0\n",
    "    \n",
    "    for char in input_string:\n",
    "        if char.isupper():\n",
    "            uppercase_count += 1\n",
    "    \n",
    "    return uppercase_count\n",
    "\n",
    "# Example usage:\n",
    "input_string = \"Hello, World! This Is An EXAMPLE.\"\n",
    "result = count_uppercase_letters(input_string)\n",
    "print(\"Number of uppercase letters:\", result)\n"
   ]
  },
  {
   "cell_type": "code",
   "execution_count": null,
   "id": "4b612c54-4b8b-4d74-a53d-a2201153cf23",
   "metadata": {},
   "outputs": [],
   "source": [
    "def count_lowercase_letters(input_string):\n",
    "    # Initialize a counter for lowercase letters\n",
    "    lowercase_count = 0\n",
    "    \n",
    "    for char in input_string:\n",
    "        if char.islower():\n",
    "            lowercase_count += 1\n",
    "    \n",
    "    return lowercase_count\n",
    "\n",
    "input_string = \"Hello, World! This Is An EXAMPLE.\"\n",
    "result = count_lowercase_letters(input_string)\n",
    "print(\"Number of lowercase letters:\", result)\n"
   ]
  },
  {
   "cell_type": "code",
   "execution_count": null,
   "id": "d646884d-8219-44e1-8369-6a4e1b70d07e",
   "metadata": {},
   "outputs": [],
   "source": [
    "# Input string\n",
    "input_string = \"Hello, World! This Is An EXAMPLE.\"\n",
    "swapped_string = input_string.swapcase()\n",
    "\n",
    "print(swapped_string)\n"
   ]
  },
  {
   "cell_type": "code",
   "execution_count": null,
   "id": "852f434f-386e-41c4-81dc-17e9f1db1951",
   "metadata": {},
   "outputs": [],
   "source": [
    "def remove_word(input_string, word_to_remove):\n",
    "    \n",
    "    result_string = input_string.replace(word_to_remove, \"\")\n",
    "    return result_string\n",
    "\n",
    "# Example usage:\n",
    "input_string = \"This is a sample sentence. This sample is a test.\"\n",
    "word_to_remove = \"sample\"\n",
    "result = remove_word(input_string, word_to_remove)\n",
    "print(\"Modified string:\", result)\n"
   ]
  },
  {
   "cell_type": "code",
   "execution_count": null,
   "id": "ea0f425a-4fbe-4c50-b3c9-af2f61a76c9c",
   "metadata": {},
   "outputs": [],
   "source": [
    "import re\n",
    "\n",
    "def is_valid_email(email):\n",
    "    \n",
    "    pattern = r'^[\\w\\.-]+@[\\w\\.-]+\\.\\w+$'\n",
    "    \n",
    "    if re.match(pattern, email):\n",
    "        return True\n",
    "    else:\n",
    "        return False\n",
    "\n",
    "# Example usage:\n",
    "email = \"example@email.com\"\n",
    "if is_valid_email(email):\n",
    "    print(f\"'{email}' is a valid email address.\")\n",
    "else:\n",
    "    print(f\"'{email}' is not a valid email address.\")\n"
   ]
  },
  {
   "cell_type": "code",
   "execution_count": null,
   "id": "e88e31ed-234c-49b8-b341-d2f853d5c999",
   "metadata": {},
   "outputs": [],
   "source": [
    "email = \"user@example.com\"\n",
    "username = email.split(\"@\")[0]\n",
    "print(username)\n"
   ]
  },
  {
   "cell_type": "code",
   "execution_count": null,
   "id": "3f13e95c-628b-4a8a-b045-6b70c5940294",
   "metadata": {},
   "outputs": [],
   "source": [
    "email = \"user@example.com\"\n",
    "domain = email.split(\"@\")[1]\n",
    "print(domain)\n"
   ]
  },
  {
   "cell_type": "code",
   "execution_count": null,
   "id": "c72af8f5-bbde-4284-b973-ea5f1bf19d0a",
   "metadata": {},
   "outputs": [],
   "source": [
    "import re\n",
    "\n",
    "input_string = \"This    is   a  string     with multiple   spaces.\"\n",
    "output_string = re.sub(r'\\s+', ' ', input_string)\n",
    "\n",
    "print(output_string)\n"
   ]
  },
  {
   "cell_type": "code",
   "execution_count": null,
   "id": "507c389a-a9f3-44e6-adab-f9b9bb4c0f9e",
   "metadata": {},
   "outputs": [],
   "source": [
    "from urllib.parse import urlparse\n",
    "\n",
    "def is_valid_url(url):\n",
    "    try:\n",
    "        result = urlparse(url)\n",
    "        return all([result.scheme, result.netloc])\n",
    "    except ValueError:\n",
    "        return False\n",
    "\n",
    "# Test cases\n",
    "url1 = \"https://www.example.com\"\n",
    "url2 = \"not_a_valid_url\"\n",
    "url3 = \"ftp://ftp.example.com\"\n",
    "\n",
    "print(is_valid_url(url1))  # True\n",
    "print(is_valid_url(url2))  # False\n",
    "print(is_valid_url(url3))  # True\n"
   ]
  },
  {
   "cell_type": "code",
   "execution_count": null,
   "id": "8d16ed72-48fe-4025-830f-cc67afac412f",
   "metadata": {},
   "outputs": [],
   "source": [
    "from urllib.parse import urlparse\n",
    "\n",
    "url = \"https://www.example.com/page\"\n",
    "\n",
    "parsed_url = urlparse(url)\n",
    "protocol = parsed_url.scheme\n",
    "\n",
    "print(protocol)\n"
   ]
  },
  {
   "cell_type": "code",
   "execution_count": null,
   "id": "9cde7fdd-ff51-4bb7-a15b-217e7f88fa0e",
   "metadata": {},
   "outputs": [],
   "source": [
    "# Input string\n",
    "input_string = \"hello, world!\"\n",
    "\n",
    "char_frequency = {}\n",
    "\n",
    "for char in input_string:\n",
    "    \n",
    "    if char.isalnum():\n",
    "        char = char.lower()\n",
    "        \n",
    "        char_frequency[char] = char_frequency.get(char, 0) + 1\n",
    "\n",
    "for char, frequency in char_frequency.items():\n",
    "    print(f\"'{char}': {frequency}\")\n"
   ]
  },
  {
   "cell_type": "code",
   "execution_count": null,
   "id": "a3bc8183-e2b5-456b-b89e-45023469d121",
   "metadata": {},
   "outputs": [],
   "source": [
    "import string\n",
    "\n",
    "def remove_punctuation(input_string):\n",
    "    translator = str.maketrans('', '', string.punctuation)\n",
    "    \n",
    "    cleaned_string = input_string.translate(translator)\n",
    "    \n",
    "    return cleaned_string\n",
    "\n",
    "input_string = \"Hello, World! This is an example string.\"\n",
    "cleaned_string = remove_punctuation(input_string)\n",
    "print(cleaned_string)\n"
   ]
  },
  {
   "cell_type": "code",
   "execution_count": null,
   "id": "dd93e473-325b-4815-a078-73db96e959c9",
   "metadata": {},
   "outputs": [],
   "source": [
    "def contains_only_digits(input_string):\n",
    "    return input_string.isdigit()\n",
    "\n",
    "input_string = \"12345\"\n",
    "result = contains_only_digits(input_string)\n",
    "print(result)  \n",
    "\n",
    "input_string = \"12345abc\"\n",
    "result = contains_only_digits(input_string)\n",
    "print(result)  \n"
   ]
  },
  {
   "cell_type": "code",
   "execution_count": null,
   "id": "39b667fe-29bc-4a43-971e-fadbbd2c6e40",
   "metadata": {},
   "outputs": [],
   "source": [
    "def contains_only_alphabets(input_string):\n",
    "    return input_string.isalpha()\n",
    "\n",
    "input_string = \"Hello\"\n",
    "result = contains_only_alphabets(input_string)\n",
    "print(result)  \n",
    "\n",
    "input_string = \"Hello123\"\n",
    "result = contains_only_alphabets(input_string)\n",
    "print(result)  \n"
   ]
  },
  {
   "cell_type": "code",
   "execution_count": null,
   "id": "31c2d432-0ab5-4db4-b064-0c3d116f3cb0",
   "metadata": {},
   "outputs": [],
   "source": [
    "input_string = \"Hello, World!\"\n",
    "char_list = list(input_string)\n",
    "\n",
    "print(char_list)\n"
   ]
  },
  {
   "cell_type": "code",
   "execution_count": null,
   "id": "0860a7fb-237f-4d1a-ab3d-fbdd23e5c4b8",
   "metadata": {},
   "outputs": [],
   "source": [
    "def are_anagrams(str1, str2):\n",
    "    \n",
    "    str1 = str1.replace(\" \", \"\").lower()\n",
    "    str2 = str2.replace(\" \", \"\").lower()\n",
    "\n",
    "    return sorted(str1) == sorted(str2)\n",
    "\n",
    "# Test cases\n",
    "string1 = \"listen\"\n",
    "string2 = \"silent\"\n",
    "result = are_anagrams(string1, string2)\n",
    "print(result)  \n",
    "\n",
    "string1 = \"hello\"\n",
    "string2 = \"world\"\n",
    "result = are_anagrams(string1, string2)\n",
    "print(result)  \n"
   ]
  },
  {
   "cell_type": "code",
   "execution_count": null,
   "id": "bbaa2291-c720-4a33-8ec1-1609f648c60c",
   "metadata": {},
   "outputs": [],
   "source": [
    "def caesar_cipher_encrypt(text, shift):\n",
    "    encrypted_text = \"\"\n",
    "    \n",
    "    for char in text:\n",
    "        if char.isalpha():\n",
    "            \n",
    "            is_upper = char.isupper()\n",
    "            \n",
    "            char_code = ord(char) - ord('A' if is_upper else 'a')\n",
    "            encrypted_char_code = (char_code + shift) % 26\n",
    "            encrypted_char = chr(encrypted_char_code + ord('A' if is_upper else 'a'))\n",
    "            \n",
    "            encrypted_text += encrypted_char\n",
    "        else:\n",
    "            encrypted_text += char\n",
    "    \n",
    "    return encrypted_text\n",
    "\n",
    "text = \"Hello, World!\"\n",
    "shift = 3\n",
    "encrypted_text = caesar_cipher_encrypt(text, shift)\n",
    "print(encrypted_text)\n"
   ]
  },
  {
   "cell_type": "code",
   "execution_count": null,
   "id": "b71c419e-44af-465f-a75a-6e68a4bb0295",
   "metadata": {},
   "outputs": [],
   "source": [
    "def caesar_cipher_decrypt(encrypted_text, shift):\n",
    "    decrypted_text = \"\"\n",
    "    \n",
    "    for char in encrypted_text:\n",
    "        if char.isalpha():\n",
    "            is_upper = char.isupper()\n",
    "            \n",
    "            char_code = ord(char) - ord('A' if is_upper else 'a')\n",
    "            decrypted_char_code = (char_code - shift) % 26\n",
    "            decrypted_char = chr(decrypted_char_code + ord('A' if is_upper else 'a'))\n",
    "            \n",
    "            decrypted_text += decrypted_char\n",
    "        else:\n",
    "            decrypted_text += char\n",
    "    \n",
    "    return decrypted_text\n",
    "\n",
    "encrypted_text = \"Khoor, Zruog!\"\n",
    "shift = 3\n",
    "decrypted_text = caesar_cipher_decrypt(encrypted_text, shift)\n",
    "print(decrypted_text)\n"
   ]
  },
  {
   "cell_type": "code",
   "execution_count": null,
   "id": "3f273ca4-730d-4948-a109-16e5d8036e05",
   "metadata": {},
   "outputs": [],
   "source": [
    "from collections import Counter\n",
    "import re\n",
    "\n",
    "def most_frequent_word(input_string):\n",
    "    words = re.findall(r'\\b\\w+\\b', input_string.lower())\n",
    "    \n",
    "    word_counts = Counter(words)\n",
    "    most_common_word, frequency = word_counts.most_common(1)[0]\n",
    "    \n",
    "    return most_common_word, frequency\n",
    "\n",
    "text = \"This is a test. This is only a test. Testing is important.\"\n",
    "most_common_word, frequency = most_frequent_word(text)\n",
    "\n",
    "print(f\"The most frequent word is '{most_common_word}' with a frequency of {frequency}.\")\n"
   ]
  },
  {
   "cell_type": "code",
   "execution_count": null,
   "id": "ac8a4d4a-8f04-4124-9d0b-e51318647833",
   "metadata": {},
   "outputs": [],
   "source": [
    "import re\n",
    "\n",
    "def unique_words(input_string):\n",
    "    words = re.findall(r'\\b\\w+\\b', input_string.lower())\n",
    "    unique_word_set = set(words)\n",
    "    \n",
    "    return list(unique_word_set)\n",
    "\n",
    "text = \"This is a test. This is only a test. Testing is important.\"\n",
    "unique_word_list = unique_words(text)\n",
    "\n",
    "print(\"Unique words in the text:\")\n",
    "for word in unique_word_list:\n",
    "    print(word)\n"
   ]
  },
  {
   "cell_type": "code",
   "execution_count": null,
   "id": "bf61ca3f-44b1-4506-bc05-8a5d595b8d76",
   "metadata": {},
   "outputs": [],
   "source": [
    "import pyphen\n",
    "\n",
    "def count_syllables(input_string):\n",
    "    dic = pyphen.Pyphen(lang='en_US')\n",
    "    \n",
    "    words = input_string.split()\n",
    "    \n",
    "    syllable_count = 0\n",
    "    for word in words:\n",
    "        syllables = dic.inserted(word).count('-') + 1\n",
    "        syllable_count += syllables\n",
    "    \n",
    "    return syllable_count\n",
    "\n",
    "text = \"This is a test sentence to count syllables.\"\n",
    "syllable_count = count_syllables(text)\n",
    "print(f\"Total syllables: {syllable_count}\")\n"
   ]
  },
  {
   "cell_type": "code",
   "execution_count": null,
   "id": "31f345ad-e2b2-4dea-972d-d7e9fc9675ee",
   "metadata": {},
   "outputs": [],
   "source": [
    "import re\n",
    "\n",
    "def contains_special_characters(input_string):\n",
    "    pattern = r'[!@#$%^&*()_+{}\\[\\]:;<>,.?~\\\\\\/\\|]'\n",
    "    \n",
    "    if re.search(pattern, input_string):\n",
    "        return True\n",
    "    else:\n",
    "        return False\n",
    "\n",
    "text_with_special_chars = \"Hello, World!\"\n",
    "text_without_special_chars = \"HelloWorld123\"\n",
    "\n",
    "contains_special = contains_special_characters(text_with_special_chars)\n",
    "print(f\"'{text_with_special_chars}' contains special characters: {contains_special}\")\n",
    "\n",
    "contains_special = contains_special_characters(text_without_special_chars)\n",
    "print(f\"'{text_without_special_chars}' contains special characters: {contains_special}\")\n"
   ]
  },
  {
   "cell_type": "code",
   "execution_count": null,
   "id": "123f6e52-b31a-47ac-a99d-2f4a441e2596",
   "metadata": {},
   "outputs": [],
   "source": [
    "def remove_nth_word(input_string, n):\n",
    "    \n",
    "    words = input_string.split()\n",
    "\n",
    "    if 1 <= n <= len(words):\n",
    "        \n",
    "        del words[n - 1]\n",
    "        result_string = \" \".join(words)\n",
    "        return result_string\n",
    "    else:\n",
    "        return input_string\n",
    "\n",
    "# Example usage\n",
    "text = \"This is a sample sentence to remove the nth word.\"\n",
    "n = 5\n",
    "new_text = remove_nth_word(text, n)\n",
    "print(new_text)\n"
   ]
  },
  {
   "cell_type": "code",
   "execution_count": null,
   "id": "c2d6d49f-63da-4b59-bf66-e38af5e8d32a",
   "metadata": {},
   "outputs": [],
   "source": [
    "def insert_word_at_position(input_string, word_to_insert, n):\n",
    "    \n",
    "    words = input_string.split()\n",
    "\n",
    "    if 0 <= n <= len(words):\n",
    "        words.insert(n, word_to_insert)\n",
    "\n",
    "        result_string = \" \".join(words)\n",
    "        return result_string\n",
    "    else:\n",
    "        return input_string\n",
    "\n",
    "text = \"This is a sample sentence to insert a word.\"\n",
    "word_to_insert = \"new\"\n",
    "n = 3\n",
    "new_text = insert_word_at_position(text, word_to_insert, n)\n",
    "print(new_text)\n"
   ]
  },
  {
   "cell_type": "code",
   "execution_count": null,
   "id": "2f33ba57-69ae-431a-9f83-658ec50e1a7c",
   "metadata": {},
   "outputs": [],
   "source": [
    "def csv_string_to_list(csv_string):\n",
    "    \n",
    "    lines = csv_string.strip().split('\\n')\n",
    "    data = [line.split(',') for line in lines]\n",
    "    \n",
    "    return data\n",
    "\n",
    "csv_data = \"Name,Age,Location\\nAlice,25,New York\\nBob,30,Los Angeles\"\n",
    "result = csv_string_to_list(csv_data)\n",
    "\n",
    "for row in result:\n",
    "    print(row)\n"
   ]
  },
  {
   "cell_type": "code",
   "execution_count": null,
   "id": "60e48227-9298-4e14-995b-997cf24320b5",
   "metadata": {},
   "outputs": [],
   "source": [
    "List Based Practise Problems"
   ]
  },
  {
   "cell_type": "code",
   "execution_count": null,
   "id": "8affe7ee-1fe8-4d6e-93ef-86788ef8278f",
   "metadata": {},
   "outputs": [],
   "source": [
    "my_list = list(range(1, 11))\n"
   ]
  },
  {
   "cell_type": "code",
   "execution_count": null,
   "id": "f6f97262-2c87-4bf2-addd-82fd97d82036",
   "metadata": {},
   "outputs": [],
   "source": [
    "def custom_len(lst):\n",
    "    count = 0\n",
    "    for _ in lst:\n",
    "        count += 1\n",
    "    return count\n",
    "\n",
    "my_list = [1, 2, 3, 4, 5]\n",
    "length = custom_len(my_list)\n",
    "print(length)  \n"
   ]
  },
  {
   "cell_type": "code",
   "execution_count": null,
   "id": "a009fc40-8761-4a86-8f20-464aee8c9af2",
   "metadata": {},
   "outputs": [],
   "source": [
    "my_list = [1, 2, 3, 4, 5]\n",
    "element_to_append = 6\n",
    "my_list.append(element_to_append)\n",
    "\n",
    "print(my_list)  \n"
   ]
  },
  {
   "cell_type": "code",
   "execution_count": null,
   "id": "607f9785-fafa-4ad4-8599-3d70c08ac649",
   "metadata": {},
   "outputs": [],
   "source": [
    "my_list = [1, 2, 3, 4, 5]\n",
    "element_to_insert = 99\n",
    "index_to_insert_at = 2  \n",
    "\n",
    "my_list.insert(index_to_insert_at, element_to_insert)\n",
    "\n",
    "print(my_list)\n"
   ]
  },
  {
   "cell_type": "code",
   "execution_count": null,
   "id": "868d0101-51ae-4fd1-a3ea-41c4b5c310c2",
   "metadata": {},
   "outputs": [],
   "source": [
    "my_list = [1, 2, 3, 4, 5]\n",
    "element_to_remove = 3\n",
    "\n",
    "my_list.remove(element_to_remove)\n",
    "\n",
    "print(my_list)\n"
   ]
  },
  {
   "cell_type": "code",
   "execution_count": null,
   "id": "af2fa2f2-98ba-42af-9fc4-e13a65057d98",
   "metadata": {},
   "outputs": [],
   "source": [
    "my_list = [1, 2, 3, 4, 5]\n",
    "index_to_remove = 2  \n",
    "\n",
    "removed_element = my_list.pop(index_to_remove)\n",
    "\n",
    "print(\"Removed element:\", removed_element)\n",
    "print(\"Updated list:\", my_list)\n"
   ]
  },
  {
   "cell_type": "code",
   "execution_count": null,
   "id": "6246e353-f859-4f2d-a523-5728cd91c7b1",
   "metadata": {},
   "outputs": [],
   "source": [
    "my_list = [1, 2, 3, 4, 5]\n",
    "element_to_check = 3\n",
    "\n",
    "if element_to_check in my_list:\n",
    "    print(f\"{element_to_check} exists in the list.\")\n",
    "else:\n",
    "    print(f\"{element_to_check} does not exist in the list.\")\n"
   ]
  },
  {
   "cell_type": "code",
   "execution_count": null,
   "id": "b058650d-a877-4178-b2e0-5f3896724527",
   "metadata": {},
   "outputs": [],
   "source": [
    "my_list = [1, 2, 3, 4, 5, 3]\n",
    "element_to_find = 3\n",
    "\n",
    "index = my_list.index(element_to_find)\n",
    "\n",
    "print(f\"The index of the first occurrence of {element_to_find} is {index}.\")\n"
   ]
  },
  {
   "cell_type": "code",
   "execution_count": null,
   "id": "0fd5ac52-029d-4416-85e1-ad6d45019ce3",
   "metadata": {},
   "outputs": [],
   "source": [
    "my_list = [1, 2, 3, 4, 5, 3]\n",
    "element_to_count = 3\n",
    "\n",
    "count = my_list.count(element_to_count)\n",
    "\n",
    "print(f\"The element {element_to_count} appears {count} times in the list.\")\n"
   ]
  },
  {
   "cell_type": "code",
   "execution_count": null,
   "id": "a91db5cd-a61a-4aa1-9bfa-3887579056ac",
   "metadata": {},
   "outputs": [],
   "source": [
    "original_string = \"Hello, World!\"\n",
    "\n",
    "reversed_string = original_string[::-1]\n",
    "\n",
    "print(reversed_string)\n"
   ]
  },
  {
   "cell_type": "code",
   "execution_count": null,
   "id": "7713f740-99b0-4844-a55b-ffdbef282f88",
   "metadata": {},
   "outputs": [],
   "source": [
    "original_list = [5, 2, 9, 1, 5, 6]\n",
    "sorted_list = sorted(original_list)\n",
    "print(sorted_list)\n"
   ]
  },
  {
   "cell_type": "code",
   "execution_count": null,
   "id": "97569fc2-c9cd-4608-9bd4-1af38edf25c9",
   "metadata": {},
   "outputs": [],
   "source": [
    "original_list = [5, 2, 9, 1, 5, 6]\n",
    "sorted_list_descending = sorted(original_list, reverse=True)\n",
    "print(sorted_list_descending)\n"
   ]
  },
  {
   "cell_type": "code",
   "execution_count": null,
   "id": "5215be32-81f9-48b9-869b-11a1b35ccdf6",
   "metadata": {},
   "outputs": [],
   "source": [
    "even_numbers = [x for x in range(1, 21) if x % 2 == 0]\n",
    "print(even_numbers)\n"
   ]
  },
  {
   "cell_type": "code",
   "execution_count": null,
   "id": "99fccb67-c16c-4ae8-b3bf-00f3e3963dc5",
   "metadata": {},
   "outputs": [],
   "source": [
    "odd_numbers = [x for x in range(1, 21) if x % 2 != 0]\n",
    "print(odd_numbers)\n"
   ]
  },
  {
   "cell_type": "code",
   "execution_count": null,
   "id": "7c8141fe-f41a-43be-8b40-9c2769ba1272",
   "metadata": {},
   "outputs": [],
   "source": [
    "my_list = [1, 2, 3, 4, 5]\n",
    "list_sum = sum(my_list)\n",
    "print(list_sum)\n"
   ]
  },
  {
   "cell_type": "code",
   "execution_count": null,
   "id": "1c0f20fa-1dbc-4026-ae77-4996d405d4ad",
   "metadata": {},
   "outputs": [],
   "source": [
    "my_list = [7, 15, 2, 10, 23, 14]\n",
    "max_value = max(my_list)\n",
    "print(max_value)\n"
   ]
  },
  {
   "cell_type": "code",
   "execution_count": null,
   "id": "585174d5-1a3d-41c6-b81e-d55468667ac3",
   "metadata": {},
   "outputs": [],
   "source": [
    "my_list = [7, 15, 2, 10, 23, 14]\n",
    "min_value = min(my_list)\n",
    "print(min_value)\n"
   ]
  },
  {
   "cell_type": "code",
   "execution_count": null,
   "id": "88977e96-da29-4679-90e0-06376b219e8c",
   "metadata": {},
   "outputs": [],
   "source": [
    "squares = [x**2 for x in range(1, 11)]\n",
    "print(squares)\n"
   ]
  },
  {
   "cell_type": "code",
   "execution_count": null,
   "id": "67751a28-4ec3-455c-a189-87b9a86fb923",
   "metadata": {},
   "outputs": [],
   "source": [
    "import random\n",
    "\n",
    "random_numbers = [random.randint(1, 100) for _ in range(10)]\n",
    "print(random_numbers)\n"
   ]
  },
  {
   "cell_type": "code",
   "execution_count": null,
   "id": "195f6782-049e-4794-a7ab-117d87bf971d",
   "metadata": {},
   "outputs": [],
   "source": [
    "original_list = [1, 2, 2, 3, 4, 4, 5]\n",
    "unique_list = list(set(original_list))\n",
    "print(unique_list)\n"
   ]
  },
  {
   "cell_type": "code",
   "execution_count": null,
   "id": "1cdf8b7b-4118-4446-8909-82f1be2825d8",
   "metadata": {},
   "outputs": [],
   "source": [
    "list1 = [1, 2, 3, 4, 5]\n",
    "list2 = [3, 4, 5, 6, 7]\n",
    "\n",
    "common_elements = list(set(list1) & set(list2))\n",
    "print(common_elements)\n"
   ]
  },
  {
   "cell_type": "code",
   "execution_count": null,
   "id": "b94da2df-9d7b-4000-ba0e-7eda7ffe36f8",
   "metadata": {},
   "outputs": [],
   "source": [
    "list1 = [1, 2, 3, 4, 5]\n",
    "list2 = [3, 4, 5, 6, 7]\n",
    "\n",
    "set1 = set(list1)\n",
    "set2 = set(list2)\n",
    "\n",
    "difference = list(set1 - set2)\n",
    "print(difference)\n"
   ]
  },
  {
   "cell_type": "code",
   "execution_count": null,
   "id": "c3123026-599f-4eb9-bd43-90e6d4f5bfde",
   "metadata": {},
   "outputs": [],
   "source": [
    "list1 = [1, 2, 3]\n",
    "list2 = [4, 5, 6]\n",
    "\n",
    "list1.extend(list2)\n",
    "print(list1)  \n"
   ]
  },
  {
   "cell_type": "code",
   "execution_count": null,
   "id": "8db03220-6453-45b9-b604-f39932e1e72c",
   "metadata": {},
   "outputs": [],
   "source": [
    "original_list = [1, 2, 3, 4, 5]\n",
    "doubled_list = [x * 2 for x in original_list]\n",
    "print(doubled_list)\n"
   ]
  },
  {
   "cell_type": "code",
   "execution_count": null,
   "id": "f4de0699-30e9-43d6-a948-72198739615d",
   "metadata": {},
   "outputs": [],
   "source": [
    "original_list = [1, 2, 3, 4, 5, 6, 7, 8, 9, 10]\n",
    "filtered_list = [x for x in original_list if x % 2 != 0]\n",
    "print(filtered_list)\n"
   ]
  },
  {
   "cell_type": "code",
   "execution_count": null,
   "id": "b1b73644-d525-4579-8aaa-742494b349de",
   "metadata": {},
   "outputs": [],
   "source": [
    "string_list = [\"1\", \"2\", \"3\", \"4\", \"5\"]\n",
    "integer_list = [int(x) for x in string_list]\n",
    "print(integer_list)\n"
   ]
  },
  {
   "cell_type": "code",
   "execution_count": null,
   "id": "e22e7d71-b619-4571-a3ca-62839a6ebd4f",
   "metadata": {},
   "outputs": [],
   "source": [
    "integer_list = [1, 2, 3, 4, 5]\n",
    "string_list = [str(x) for x in integer_list]\n",
    "print(string_list)\n"
   ]
  },
  {
   "cell_type": "code",
   "execution_count": null,
   "id": "89666d24-1d02-4161-b1df-b062b3739bc8",
   "metadata": {},
   "outputs": [],
   "source": [
    "def flatten_list(nested_list):\n",
    "    flattened_list = []\n",
    "    for item in nested_list:\n",
    "        if isinstance(item, list):\n",
    "            flattened_list.extend(flatten_list(item))\n",
    "        else:\n",
    "            flattened_list.append(item)\n",
    "    return flattened_list\n",
    "\n",
    "nested_list = [1, [2, 3], [4, [5, 6]], 7]\n",
    "flat_list = flatten_list(nested_list)\n",
    "print(flat_list)\n"
   ]
  },
  {
   "cell_type": "code",
   "execution_count": null,
   "id": "5adee87c-8cce-42b2-ae31-736ca45cfd87",
   "metadata": {},
   "outputs": [],
   "source": [
    "def generate_fibonacci(n):\n",
    "    if n <= 0:\n",
    "        return []\n",
    "    elif n == 1:\n",
    "        return [0]\n",
    "    elif n == 2:\n",
    "        return [0, 1]\n",
    "    else:\n",
    "        fibonacci_list = generate_fibonacci(n - 1)\n",
    "        next_fibonacci = fibonacci_list[-1] + fibonacci_list[-2]\n",
    "        fibonacci_list.append(next_fibonacci)\n",
    "        return fibonacci_list\n",
    "\n",
    "fibonacci_list = generate_fibonacci(10)\n",
    "print(fibonacci_list)\n"
   ]
  },
  {
   "cell_type": "code",
   "execution_count": null,
   "id": "828729c9-73a7-4514-af37-80e0da3054f1",
   "metadata": {},
   "outputs": [],
   "source": [
    "def rotate_left(lst, n):\n",
    "    if len(lst) == 0:\n",
    "        return lst  \n",
    "    n = n % len(lst)  \n",
    "    return lst[n:] + lst[:n]\n",
    "\n",
    "original_list = [1, 2, 3, 4, 5]\n",
    "n = 2  \n",
    "rotated_list = rotate_left(original_list, n)\n",
    "print(rotated_list)\n"
   ]
  },
  {
   "cell_type": "code",
   "execution_count": null,
   "id": "dfce8038-f555-4ce8-a84e-6e0a7622cd5e",
   "metadata": {},
   "outputs": [],
   "source": [
    "def rotate_right(lst, n):\n",
    "    if len(lst) == 0:\n",
    "        return lst  \n",
    "    n = n % len(lst)  \n",
    "    return lst[-n:] + lst[:-n]\n",
    "\n",
    "original_list = [1, 2, 3, 4, 5]\n",
    "n = 2  \n",
    "rotated_list = rotate_right(original_list, n)\n",
    "print(rotated_list)\n"
   ]
  },
  {
   "cell_type": "code",
   "execution_count": null,
   "id": "4be4bb6b-6f82-4420-afe4-ff7f0dc9a21a",
   "metadata": {},
   "outputs": [],
   "source": [
    "def is_prime(n):\n",
    "    if n <= 1:\n",
    "        return False\n",
    "    if n <= 3:\n",
    "        return True\n",
    "    if n % 2 == 0 or n % 3 == 0:\n",
    "        return False\n",
    "    i = 5\n",
    "    while i * i <= n:\n",
    "        if n % i == 0 or n % (i + 2) == 0:\n",
    "            return False\n",
    "        i += 6\n",
    "    return True\n",
    "\n",
    "prime_list = [x for x in range(2, 51) if is_prime(x)]\n",
    "\n",
    "print(prime_list)\n"
   ]
  },
  {
   "cell_type": "code",
   "execution_count": null,
   "id": "dd282ba1-08d0-4983-88a7-636f7104a8ee",
   "metadata": {},
   "outputs": [],
   "source": [
    "def split_into_chunks(lst, n):\n",
    "    for i in range(0, len(lst), n):\n",
    "        yield lst[i:i + n]\n",
    "\n",
    "original_list = [1, 2, 3, 4, 5, 6, 7, 8, 9]\n",
    "chunk_size = 3\n",
    "\n",
    "chunks = list(split_into_chunks(original_list, chunk_size))\n",
    "\n",
    "print(chunks)\n"
   ]
  },
  {
   "cell_type": "code",
   "execution_count": null,
   "id": "d8bbfa47-9ad9-482d-932e-a4464cebdf81",
   "metadata": {},
   "outputs": [],
   "source": [
    "original_list = [10, 5, 15, 7, 20, 12]\n",
    "sorted_list = sorted(original_list, reverse=True)\n",
    "\n",
    "if len(sorted_list) >= 2:\n",
    "    second_largest = sorted_list[1]\n",
    "    print(\"The second largest number is:\", second_largest)\n",
    "else:\n",
    "    print(\"The list doesn't have a second largest number.\")\n"
   ]
  },
  {
   "cell_type": "code",
   "execution_count": null,
   "id": "1e33e38a-12e1-4ec9-8092-e4052033d90e",
   "metadata": {},
   "outputs": [],
   "source": [
    "original_list = [1, 2, 3, 4, 5]\n",
    "squared_list = [x ** 2 for x in original_list]\n",
    "print(squared_list)\n"
   ]
  },
  {
   "cell_type": "code",
   "execution_count": null,
   "id": "0edc0fa1-9859-419e-a1ff-0c6cbca2f164",
   "metadata": {},
   "outputs": [],
   "source": [
    "original_list = ['apple', 'banana', 'cherry', 'date']\n",
    "\n",
    "index_dict = {element: index for index, element in enumerate(original_list)}\n",
    "\n",
    "print(index_dict)\n"
   ]
  },
  {
   "cell_type": "code",
   "execution_count": null,
   "id": "0945e1bf-9fc9-4df1-a592-9049caf80ddb",
   "metadata": {},
   "outputs": [],
   "source": [
    "import random\n",
    "\n",
    "my_list = [1, 2, 3, 4, 5]\n",
    "\n",
    "random.shuffle(my_list)\n",
    "\n",
    "print(my_list)\n"
   ]
  },
  {
   "cell_type": "code",
   "execution_count": null,
   "id": "a5dd4428-b812-4b02-a7f2-5a08328e1de4",
   "metadata": {},
   "outputs": [],
   "source": [
    "def factorial(n):\n",
    "    if n == 0:\n",
    "        return 1\n",
    "    else:\n",
    "        result = 1\n",
    "        for i in range(1, n + 1):\n",
    "            result *= i\n",
    "        return result\n",
    "\n",
    "factorial_list = [factorial(n) for n in range(10)]\n",
    "print(factorial_list)\n"
   ]
  },
  {
   "cell_type": "code",
   "execution_count": null,
   "id": "642d5da0-68f9-4909-8daf-1bd1d7ed0ff4",
   "metadata": {},
   "outputs": [],
   "source": [
    "\n",
    "list1 = [1, 2, 3, 4, 5]\n",
    "list2 = [4, 5, 6, 7, 8]\n",
    "\n",
    "set1 = set(list1)\n",
    "set2 = set(list2)\n",
    "\n",
    "if set1.intersection(set2):\n",
    "    print(\"The lists have at least one common element.\")\n",
    "else:\n",
    "    print(\"The lists do not have any common elements.\")\n"
   ]
  },
  {
   "cell_type": "code",
   "execution_count": null,
   "id": "47d30f33-b466-4fc1-9795-b860ddf57db8",
   "metadata": {},
   "outputs": [],
   "source": [
    "my_list = [1, 2, 3, 4, 5]\n",
    "my_list.clear()\n",
    "print(my_list)  \n"
   ]
  },
  {
   "cell_type": "code",
   "execution_count": null,
   "id": "ea3ec5d1-d311-49c9-a916-eeb3d361df1e",
   "metadata": {},
   "outputs": [],
   "source": [
    "original_list = [1, -2, 3, -4, 5, -6]\n",
    "modified_list = [x if x >= 0 else 0 for x in original_list]\n",
    "print(modified_list)\n"
   ]
  },
  {
   "cell_type": "code",
   "execution_count": null,
   "id": "e145cbce-fc56-4412-984b-887d2428ad28",
   "metadata": {},
   "outputs": [],
   "source": [
    "my_string = \"This is a sample string that we want to split into words\"\n",
    "word_list = my_string.split()\n",
    "print(word_list)\n"
   ]
  },
  {
   "cell_type": "code",
   "execution_count": null,
   "id": "cc20dfd0-4d6f-4f32-b3eb-dfcbc6d0dfaa",
   "metadata": {},
   "outputs": [],
   "source": [
    "word_list = ['This', 'is', 'a', 'list', 'of', 'words']\n",
    "my_string = ' '.join(word_list)\n",
    "print(my_string)\n"
   ]
  },
  {
   "cell_type": "code",
   "execution_count": null,
   "id": "071583e5-7f7d-41d9-9e80-016ff6fdf6ce",
   "metadata": {},
   "outputs": [],
   "source": [
    "n = 10  \n",
    "power_of_two_list = [2 ** i for i in range(n)]\n",
    "print(power_of_two_list)\n"
   ]
  },
  {
   "cell_type": "code",
   "execution_count": null,
   "id": "917b272f-6f03-44eb-865f-47cdd29b005e",
   "metadata": {},
   "outputs": [],
   "source": [
    "string_list = [\"apple\", \"banana\", \"cherry\", \"date\", \"elderberry\"]\n",
    "longest_string = max(string_list, key=len)\n",
    "print(\"The longest string is:\", longest_string)\n"
   ]
  },
  {
   "cell_type": "code",
   "execution_count": null,
   "id": "5001d05b-e8a8-44d8-80bf-7b3aa551935c",
   "metadata": {},
   "outputs": [],
   "source": [
    "string_list = [\"apple\", \"banana\", \"cherry\", \"date\", \"elderberry\"]\n",
    "shortest_string = min(string_list, key=len)\n",
    "print(\"The shortest string is:\", shortest_string)\n"
   ]
  },
  {
   "cell_type": "code",
   "execution_count": null,
   "id": "e5ae12fd-721f-41dd-a88f-5e0c9c433cb0",
   "metadata": {},
   "outputs": [],
   "source": [
    "n = 10  \n",
    "triangular_numbers = []\n",
    "current_sum = 0\n",
    "\n",
    "for i in range(1, n + 1):\n",
    "    current_sum += i\n",
    "    triangular_numbers.append(current_sum)\n",
    "\n",
    "print(triangular_numbers)\n"
   ]
  },
  {
   "cell_type": "code",
   "execution_count": null,
   "id": "573f914b-106c-47e0-aa16-03254c5993c1",
   "metadata": {},
   "outputs": [],
   "source": [
    "def is_subsequence(subsequence, sequence):\n",
    "    i, j = 0, 0\n",
    "\n",
    "    while i < len(subsequence) and j < len(sequence):\n",
    "        if subsequence[i] == sequence[j]:\n",
    "            i += 1\n",
    "        j += 1\n",
    "\n",
    "    return i == len(subsequence)\n",
    "\n",
    "# Example usage:\n",
    "sequence = [1, 2, 3, 4, 5, 6, 7, 8]\n",
    "subsequence = [2, 4, 6]\n",
    "\n",
    "if is_subsequence(subsequence, sequence):\n",
    "    print(\"The subsequence is present in the sequence.\")\n",
    "else:\n",
    "    print(\"The subsequence is not present in the sequence.\")\n"
   ]
  },
  {
   "cell_type": "code",
   "execution_count": null,
   "id": "cde246f9-41a0-48d4-97a7-889c102c2653",
   "metadata": {},
   "outputs": [],
   "source": [
    "my_list = [1, 2, 3, 4, 5]\n",
    "\n",
    "index1 = 1  \n",
    "index2 = 3  \n",
    "\n",
    "temp = my_list[index1]\n",
    "my_list[index1] = my_list[index2]\n",
    "my_list[index2] = temp\n",
    "\n",
    "print(my_list)\n"
   ]
  },
  {
   "cell_type": "code",
   "execution_count": null,
   "id": "afdd0986-b8fb-49c7-949e-58039fbe636a",
   "metadata": {},
   "outputs": [],
   "source": [
    "Tuple Based Practice Problem"
   ]
  },
  {
   "cell_type": "code",
   "execution_count": null,
   "id": "b0062c83-94c1-42a5-8b88-384a5719e953",
   "metadata": {},
   "outputs": [],
   "source": [
    "my_tuple = (1, 2, 3, 4, 5)\n"
   ]
  },
  {
   "cell_type": "code",
   "execution_count": null,
   "id": "01e82f68-8ab0-4316-8c11-e2f4c3e95b9c",
   "metadata": {},
   "outputs": [],
   "source": [
    "my_tuple = (1, 2, 3, 4, 5)\n",
    "third_element = my_tuple[2]\n",
    "print(third_element)\n"
   ]
  },
  {
   "cell_type": "code",
   "execution_count": null,
   "id": "2b978dc6-3e2c-4cf4-b3ea-387d33e8b3e4",
   "metadata": {},
   "outputs": [],
   "source": [
    "my_tuple = (1, 2, 3, 4, 5)\n",
    "length = 0\n",
    "\n",
    "for _ in my_tuple:\n",
    "    length += 1\n",
    "\n",
    "print(\"The length of the tuple is:\", length)\n"
   ]
  },
  {
   "cell_type": "code",
   "execution_count": null,
   "id": "d33abdeb-1010-4eff-a31a-1a14d4c8c162",
   "metadata": {},
   "outputs": [],
   "source": [
    "my_tuple = (1, 2, 2, 3, 4, 2, 5)\n",
    "element_to_count = 2\n",
    "\n",
    "count = my_tuple.count(element_to_count)\n",
    "\n",
    "print(f\"The element {element_to_count} appears {count} times in the tuple.\")\n"
   ]
  },
  {
   "cell_type": "code",
   "execution_count": null,
   "id": "4da8cac9-74eb-4231-96be-7b6e502a36f8",
   "metadata": {},
   "outputs": [],
   "source": [
    "my_tuple = (1, 2, 2, 3, 4, 2, 5)\n",
    "element_to_find = 2\n",
    "\n",
    "if element_to_find in my_tuple:\n",
    "    index = my_tuple.index(element_to_find)\n",
    "    print(f\"The element {element_to_find} is first found at index {index}.\")\n",
    "else:\n",
    "    print(f\"The element {element_to_find} is not in the tuple.\")\n"
   ]
  },
  {
   "cell_type": "code",
   "execution_count": null,
   "id": "bd3458de-7886-4e3d-9f6f-f172ff782cd3",
   "metadata": {},
   "outputs": [],
   "source": [
    "my_tuple = (1, 2, 3, 4, 5)\n",
    "element_to_check = 3\n",
    "\n",
    "if element_to_check in my_tuple:\n",
    "    print(f\"The element {element_to_check} exists in the tuple.\")\n",
    "else:\n",
    "    print(f\"The element {element_to_check} does not exist in the tuple.\")\n"
   ]
  },
  {
   "cell_type": "code",
   "execution_count": null,
   "id": "7f84cef4-a85a-46a8-9de9-bdbed830ea32",
   "metadata": {},
   "outputs": [],
   "source": [
    "my_tuple = (1, 2, 3, 4, 5)\n",
    "my_list = list(my_tuple)\n",
    "\n",
    "print(my_list)\n"
   ]
  },
  {
   "cell_type": "code",
   "execution_count": null,
   "id": "816dfbdc-eb97-4def-9ef4-3114e3a85178",
   "metadata": {},
   "outputs": [],
   "source": [
    "my_list = [1, 2, 3, 4, 5]\n",
    "my_tuple = tuple(my_list)\n",
    "\n",
    "print(my_tuple)\n"
   ]
  },
  {
   "cell_type": "code",
   "execution_count": null,
   "id": "5a863c80-bc6d-402d-9800-6c5367b4dc47",
   "metadata": {},
   "outputs": [],
   "source": [
    "my_tuple = (1, 2, 3)\n",
    "\n",
    "a, b, c = my_tuple\n",
    "\n",
    "print(\"a =\", a)\n",
    "print(\"b =\", b)\n",
    "print(\"c =\", c)\n"
   ]
  },
  {
   "cell_type": "code",
   "execution_count": null,
   "id": "ffe63f38-c2c2-47c9-baf7-266b17b7f567",
   "metadata": {},
   "outputs": [],
   "source": [
    "even_numbers = tuple(x for x in range(2, 11, 2))\n",
    "\n",
    "print(even_numbers)\n"
   ]
  },
  {
   "cell_type": "code",
   "execution_count": null,
   "id": "6493fe19-27e9-4397-91c7-c343b4891261",
   "metadata": {},
   "outputs": [],
   "source": [
    "odd_numbers = tuple(x for x in range(1, 11) if x % 2 != 0)\n",
    "\n",
    "print(odd_numbers)\n"
   ]
  },
  {
   "cell_type": "code",
   "execution_count": null,
   "id": "719cb4b7-a53d-43e0-b65b-950f4a6cf3a7",
   "metadata": {},
   "outputs": [],
   "source": [
    "tuple1 = (1, 2, 3)\n",
    "tuple2 = (4, 5, 6)\n",
    "\n",
    "concatenated_tuple = tuple1 + tuple2\n",
    "\n",
    "print(concatenated_tuple)\n"
   ]
  },
  {
   "cell_type": "code",
   "execution_count": null,
   "id": "07cf1f28-bbb3-4dff-ba40-c6f3ceda2bee",
   "metadata": {},
   "outputs": [],
   "source": [
    "original_tuple = (1, 2, 3)\n",
    "\n",
    "repeated_tuple = original_tuple * 3\n",
    "\n",
    "print(repeated_tuple)\n"
   ]
  },
  {
   "cell_type": "code",
   "execution_count": null,
   "id": "55ce2574-9e6a-4663-8911-923381a285dc",
   "metadata": {},
   "outputs": [],
   "source": [
    "my_tuple = ()\n",
    "\n",
    "if not my_tuple:\n",
    "    print(\"The tuple is empty.\")\n",
    "else:\n",
    "    print(\"The tuple is not empty.\")\n"
   ]
  },
  {
   "cell_type": "code",
   "execution_count": null,
   "id": "2b4cf696-33b2-4458-96d6-0a0352417a44",
   "metadata": {},
   "outputs": [],
   "source": [
    "nested_tuple = ((1, 2), (3, 4, 5), (6,))\n",
    "\n",
    "print(nested_tuple)\n"
   ]
  },
  {
   "cell_type": "code",
   "execution_count": null,
   "id": "97d9d1cc-1bee-4a79-80ee-d711fd95b44d",
   "metadata": {},
   "outputs": [],
   "source": [
    "nested_tuple = ((1, 2), (3, 4, 5), (6,))\n",
    "first_element = nested_tuple[0][0]\n",
    "\n",
    "print(\"The first element in the nested tuple is:\", first_element)\n"
   ]
  },
  {
   "cell_type": "code",
   "execution_count": null,
   "id": "a4b3498a-1b90-43c0-9b1b-a01c6a2b872e",
   "metadata": {},
   "outputs": [],
   "source": [
    "single_element_tuple = (1,)\n"
   ]
  },
  {
   "cell_type": "code",
   "execution_count": null,
   "id": "997c77ec-cd43-4ab6-83c3-122a342f2424",
   "metadata": {},
   "outputs": [],
   "source": [
    "tuple1 = (1, 2, 3)\n",
    "tuple2 = (1, 2, 3)\n",
    "\n",
    "if tuple1 == tuple2:\n",
    "    print(\"Tuples are equal\")\n",
    "\n",
    "if tuple1 != (4, 5, 6):\n",
    "    print(\"Tuples are not equal\")\n",
    "\n",
    "if tuple1 < (2, 3, 4):\n",
    "    print(\"Tuple1 is less than (2, 3, 4)\")\n",
    "\n",
    "if tuple1 > (0, 1, 2):\n",
    "    print(\"Tuple1 is greater than (0, 1, 2)\")\n"
   ]
  },
  {
   "cell_type": "code",
   "execution_count": null,
   "id": "b2522bb0-953f-4b8f-8b7d-ec3bc4bd5632",
   "metadata": {},
   "outputs": [],
   "source": [
    "my_tuple = (1, 2, 3, 4, 5)\n",
    "\n",
    "del my_tuple\n"
   ]
  },
  {
   "cell_type": "code",
   "execution_count": null,
   "id": "e5b0d7cc-2cba-493d-bd65-b20f4031891c",
   "metadata": {},
   "outputs": [],
   "source": [
    "my_tuple = (1, 2, 3, 4, 5)\n",
    "slice_tuple = my_tuple[1:4]\n",
    "\n",
    "print(slice_tuple)\n"
   ]
  },
  {
   "cell_type": "code",
   "execution_count": null,
   "id": "b21113bf-bbeb-4f6a-bb27-1c5b8bc2b534",
   "metadata": {},
   "outputs": [],
   "source": [
    "my_tuple = (10, 5, 20, 30, 15)\n",
    "\n",
    "max_value = max(my_tuple)\n",
    "\n",
    "print(\"The maximum value in the tuple is:\", max_value)\n"
   ]
  },
  {
   "cell_type": "code",
   "execution_count": null,
   "id": "fee3eded-5f40-4dff-998e-e3e6cb82284d",
   "metadata": {},
   "outputs": [],
   "source": [
    "my_tuple = (10, 5, 20, 30, 15)\n",
    "\n",
    "min_value = min(my_tuple)\n",
    "\n",
    "print(\"The minimum value in the tuple is:\", min_value)\n"
   ]
  },
  {
   "cell_type": "code",
   "execution_count": null,
   "id": "f2fd3d07-90d5-42e0-a69c-ec29fd05674d",
   "metadata": {},
   "outputs": [],
   "source": [
    "my_string = \"Hello, World!\"\n",
    "\n",
    "char_tuple = tuple(my_string)\n",
    "\n",
    "print(char_tuple)\n"
   ]
  },
  {
   "cell_type": "code",
   "execution_count": null,
   "id": "dc827143-7e27-4b44-b88c-fb9fd7bb5c34",
   "metadata": {},
   "outputs": [],
   "source": [
    "char_tuple = ('H', 'e', 'l', 'l', 'o', ',', ' ', 'W', 'o', 'r', 'l', 'd', '!')\n",
    "string_from_tuple = ''.join(char_tuple)\n",
    "\n",
    "print(string_from_tuple)\n"
   ]
  },
  {
   "cell_type": "code",
   "execution_count": null,
   "id": "01a43b92-7d60-422c-8fac-22d23f30a5d2",
   "metadata": {},
   "outputs": [],
   "source": [
    "my_tuple = (42, \"Hello, World!\", 3.14, True)\n",
    "\n",
    "print(my_tuple[0])  \n",
    "print(my_tuple[1])  \n",
    "print(my_tuple[2])  \n",
    "print(my_tuple[3])  \n"
   ]
  },
  {
   "cell_type": "code",
   "execution_count": null,
   "id": "f21ce722-2e47-44e9-a8c0-ba44457a6d15",
   "metadata": {},
   "outputs": [],
   "source": [
    "tuple1 = (1, 2, 3)\n",
    "tuple2 = (1, 2, 3)\n",
    "\n",
    "if tuple1 == tuple2:\n",
    "    print(\"The two tuples are identical.\")\n",
    "else:\n",
    "    print(\"The two tuples are not identical.\")\n"
   ]
  },
  {
   "cell_type": "code",
   "execution_count": null,
   "id": "59b98c25-baf6-4919-a750-8879ab3280f0",
   "metadata": {},
   "outputs": [],
   "source": [
    "original_tuple = (3, 1, 2, 5, 4)\n",
    "\n",
    "sorted_tuple = tuple(sorted(original_tuple))\n",
    "\n",
    "print(sorted_tuple)\n"
   ]
  },
  {
   "cell_type": "code",
   "execution_count": null,
   "id": "ca813a44-beca-4742-b79c-483ea358c045",
   "metadata": {},
   "outputs": [],
   "source": [
    "\n",
    "int_tuple = (1, 2, 3, 4, 5)\n",
    "\n",
    "str_tuple = tuple(str(x) for x in int_tuple)\n",
    "\n",
    "print(str_tuple)\n"
   ]
  },
  {
   "cell_type": "code",
   "execution_count": null,
   "id": "4fddfaac-e42f-45b0-893b-5cb719252818",
   "metadata": {},
   "outputs": [],
   "source": [
    "\n",
    "str_tuple = ('1', '2', '3', '4', '5')\n",
    "int_tuple = tuple(int(x) for x in str_tuple)\n",
    "\n",
    "print(int_tuple)\n"
   ]
  },
  {
   "cell_type": "code",
   "execution_count": null,
   "id": "4a918ed8-b4ad-446d-95c9-a611a86b59dd",
   "metadata": {},
   "outputs": [],
   "source": [
    "tuple1 = (1, 2, 3)\n",
    "tuple2 = (4, 5, 6)\n",
    "\n",
    "merged_tuple = tuple1 + tuple2\n",
    "\n",
    "print(merged_tuple)\n"
   ]
  },
  {
   "cell_type": "code",
   "execution_count": null,
   "id": "496be5b3-9dea-42cb-b35e-93b379dc56fd",
   "metadata": {},
   "outputs": [],
   "source": [
    "def flatten_tuple(nested_tuple):\n",
    "    flattened = []\n",
    "    for item in nested_tuple:\n",
    "        if isinstance(item, tuple):\n",
    "            flattened.extend(flatten_tuple(item))\n",
    "        else:\n",
    "            flattened.append(item)\n",
    "    return tuple(flattened)\n",
    "\n",
    "nested_tuple = (1, (2, 3), 4, (5, (6, 7)), 8)\n",
    "flattened_tuple = flatten_tuple(nested_tuple)\n",
    "print(flattened_tuple)\n"
   ]
  },
  {
   "cell_type": "code",
   "execution_count": null,
   "id": "a8a09ba8-eb98-4f84-ade0-72031352fadb",
   "metadata": {},
   "outputs": [],
   "source": [
    "prime_numbers = (2, 3, 5, 7, 11)\n"
   ]
  },
  {
   "cell_type": "code",
   "execution_count": null,
   "id": "cf558287-adeb-4d1e-b0f8-3a79e85ab548",
   "metadata": {},
   "outputs": [],
   "source": [
    "def is_tuple_palindrome(input_tuple):\n",
    "    \n",
    "    input_list = list(input_tuple)\n",
    "    \n",
    "    reversed_list = input_list[::-1]\n",
    "    \n",
    "    return input_list == reversed_list\n",
    "\n",
    "my_tuple = (1, 2, 3, 2, 1)\n",
    "result = is_tuple_palindrome(my_tuple)\n",
    "print(result)  \n"
   ]
  },
  {
   "cell_type": "code",
   "execution_count": null,
   "id": "063f9546-3bfe-4264-b369-9ee0bc62a108",
   "metadata": {},
   "outputs": [],
   "source": [
    "\n",
    "squares_tuple = (1**2, 2**2, 3**2, 4**2, 5**2)\n",
    "\n",
    "print(squares_tuple)\n"
   ]
  },
  {
   "cell_type": "code",
   "execution_count": null,
   "id": "0f9c5cca-896c-44e9-a5aa-d27a417cf051",
   "metadata": {},
   "outputs": [],
   "source": [
    "# Original tuple\n",
    "original_tuple = (1, 2, 3, 4, 5, 6, 7, 8, 9, 10)\n",
    "\n",
    "filtered_tuple = tuple(x for x in original_tuple if x % 2 != 0)\n",
    "\n",
    "print(filtered_tuple)\n"
   ]
  },
  {
   "cell_type": "code",
   "execution_count": null,
   "id": "c3d3a158-baa7-4162-8397-058481402a3e",
   "metadata": {},
   "outputs": [],
   "source": [
    "# Original tuple\n",
    "original_tuple = (1, 2, 3, 4, 5)\n",
    "\n",
    "doubled_tuple = tuple(x * 2 for x in original_tuple)\n",
    "\n",
    "print(doubled_tuple)\n"
   ]
  },
  {
   "cell_type": "code",
   "execution_count": null,
   "id": "ebc9e396-32eb-45c1-a3f3-97bc18181732",
   "metadata": {},
   "outputs": [],
   "source": [
    "import random\n",
    "\n",
    "random_tuple = tuple(random.randint(1, 100) for _ in range(5))\n",
    "\n",
    "print(random_tuple)\n"
   ]
  },
  {
   "cell_type": "code",
   "execution_count": null,
   "id": "04469fea-d630-46a5-a649-e5f02f09d90d",
   "metadata": {},
   "outputs": [],
   "source": [
    "def is_tuple_sorted(input_tuple):\n",
    "    \n",
    "    return input_tuple == tuple(sorted(input_tuple))\n",
    "\n",
    "my_tuple = (1, 2, 3, 4, 5)\n",
    "result = is_tuple_sorted(my_tuple)\n",
    "print(result)  \n"
   ]
  },
  {
   "cell_type": "code",
   "execution_count": null,
   "id": "2850ba24-b00d-416a-8917-72b9a0fc3ed0",
   "metadata": {},
   "outputs": [],
   "source": [
    "def rotate_tuple_left(input_tuple, n):\n",
    "    \n",
    "    n %= len(input_tuple)\n",
    "    \n",
    "    rotated_tuple = input_tuple[n:] + input_tuple[:n]\n",
    "    \n",
    "    return rotated_tuple\n",
    "\n",
    "my_tuple = (1, 2, 3, 4, 5)\n",
    "n = 2\n",
    "result = rotate_tuple_left(my_tuple, n)\n",
    "print(result)  \n"
   ]
  },
  {
   "cell_type": "code",
   "execution_count": null,
   "id": "0feed72d-45d3-4ca6-aafb-ea906be404e2",
   "metadata": {},
   "outputs": [],
   "source": [
    "def rotate_tuple_right(input_tuple, n):\n",
    "    \n",
    "    n %= len(input_tuple)\n",
    "    \n",
    "    rotated_tuple = input_tuple[-n:] + input_tuple[:-n]\n",
    "    \n",
    "    return rotated_tuple\n",
    "\n",
    "# Example:\n",
    "my_tuple = (1, 2, 3, 4, 5)\n",
    "n = 2\n",
    "result = rotate_tuple_right(my_tuple, n)\n",
    "print(result)  \n"
   ]
  },
  {
   "cell_type": "code",
   "execution_count": null,
   "id": "f86de54a-8ce0-4221-9ba5-76306058a3e0",
   "metadata": {},
   "outputs": [],
   "source": [
    "\n",
    "def generate_fibonacci(n):\n",
    "    fibonacci_sequence = []\n",
    "    a, b = 0, 1\n",
    "    for _ in range(n):\n",
    "        fibonacci_sequence.append(a)\n",
    "        a, b = b, a + b\n",
    "    return tuple(fibonacci_sequence)\n",
    "\n",
    "first_5_fibonacci = generate_fibonacci(5)\n",
    "\n",
    "print(first_5_fibonacci)\n"
   ]
  },
  {
   "cell_type": "code",
   "execution_count": null,
   "id": "53dc30d9-3494-4632-8587-181e85aa3b3d",
   "metadata": {},
   "outputs": [],
   "source": [
    "\n",
    "user_input_str = input(\"Enter values separated by spaces: \")\n",
    "\n",
    "input_list = user_input_str.split()\n",
    "\n",
    "input_tuple = tuple(input_list)\n",
    "\n",
    "print(\"User input as a tuple:\", input_tuple)\n"
   ]
  },
  {
   "cell_type": "code",
   "execution_count": null,
   "id": "b351f4b9-7edf-493a-aa41-6e2b9453c5ab",
   "metadata": {},
   "outputs": [],
   "source": [
    "# Original tuple\n",
    "original_tuple = (1, 2, 3, 4, 5)\n",
    "\n",
    "index1 = 1\n",
    "index2 = 3\n",
    "\n",
    "tuple_list = list(original_tuple)\n",
    "\n",
    "tuple_list[index1], tuple_list[index2] = tuple_list[index2], tuple_list[index1]\n",
    "\n",
    "swapped_tuple = tuple(tuple_list)\n",
    "\n",
    "print(swapped_tuple)\n"
   ]
  },
  {
   "cell_type": "code",
   "execution_count": null,
   "id": "9440b0cf-a8e7-4fed-91ef-8b4b042a28ad",
   "metadata": {},
   "outputs": [],
   "source": [
    "# Original tuple\n",
    "original_tuple = (1, 2, 3, 4, 5)\n",
    "\n",
    "reversed_tuple = original_tuple[::-1]\n",
    "\n",
    "print(reversed_tuple)\n"
   ]
  },
  {
   "cell_type": "code",
   "execution_count": null,
   "id": "8f52495c-3c41-450b-8aea-9d6d0a2be9e4",
   "metadata": {},
   "outputs": [],
   "source": [
    "# Function to generate the first n powers of 2\n",
    "def generate_powers_of_2(n):\n",
    "    powers_of_2 = [2**i for i in range(n)]\n",
    "    return tuple(powers_of_2)\n",
    "\n",
    "n = 5  \n",
    "\n",
    "powers_tuple = generate_powers_of_2(n)\n",
    "\n",
    "print(powers_tuple)\n"
   ]
  },
  {
   "cell_type": "code",
   "execution_count": null,
   "id": "22bd1651-102e-42b0-9eb6-15f59f89a0f3",
   "metadata": {},
   "outputs": [],
   "source": [
    "def find_longest_string(input_tuple):\n",
    "    if not input_tuple:\n",
    "        return None  \n",
    "\n",
    "    longest_string = input_tuple[0]  \n",
    "\n",
    "    for string in input_tuple:\n",
    "        if len(string) > len(longest_string):\n",
    "            longest_string = string\n",
    "\n",
    "    return longest_string\n",
    "\n",
    "# Example usage:\n",
    "my_tuple = (\"apple\", \"banana\", \"cherry\", \"date\", \"elderberry\")\n",
    "longest = find_longest_string(my_tuple)\n",
    "print(\"Longest string:\", longest)  \n"
   ]
  },
  {
   "cell_type": "code",
   "execution_count": null,
   "id": "3f708e29-df88-423d-bd87-6087499770c3",
   "metadata": {},
   "outputs": [],
   "source": [
    "def find_shortest_string(input_tuple):\n",
    "    if not input_tuple:\n",
    "        return None  \n",
    "\n",
    "    shortest_string = input_tuple[0]  \n",
    "\n",
    "    for string in input_tuple:\n",
    "        if len(string) < len(shortest_string):\n",
    "            shortest_string = string\n",
    "\n",
    "    return shortest_string\n",
    "\n",
    "# Example usage:\n",
    "my_tuple = (\"apple\", \"banana\", \"cherry\", \"date\", \"elderberry\")\n",
    "shortest = find_shortest_string(my_tuple)\n",
    "print(\"Shortest string:\", shortest)  \n"
   ]
  },
  {
   "cell_type": "code",
   "execution_count": null,
   "id": "5f5070fc-c546-4230-84ff-122dcc9218d5",
   "metadata": {},
   "outputs": [],
   "source": [
    "# Function to generate the first n triangular numbers\n",
    "def generate_triangular_numbers(n):\n",
    "    triangular_numbers = []\n",
    "    for i in range(1, n + 1):\n",
    "        triangular_numbers.append(i * (i + 1) // 2)\n",
    "    return tuple(triangular_numbers)\n",
    "\n",
    "n = 5  \n",
    "\n",
    "triangular_tuple = generate_triangular_numbers(n)\n",
    "\n",
    "print(triangular_tuple)\n"
   ]
  },
  {
   "cell_type": "code",
   "execution_count": null,
   "id": "2250e08e-9e81-4854-8db4-a226f757c0e6",
   "metadata": {},
   "outputs": [],
   "source": [
    "def contains_subsequence(main_tuple, sub_tuple):\n",
    "    main_len = len(main_tuple)\n",
    "    sub_len = len(sub_tuple)\n",
    "    if sub_len > main_len:\n",
    "        return False\n",
    "\n",
    "    for i in range(main_len - sub_len + 1):\n",
    "        if main_tuple[i:i + sub_len] == sub_tuple:\n",
    "            return True\n",
    "\n",
    "    return False\n",
    "\n",
    "# Example usage:\n",
    "main_tuple = (1, 2, 3, 4, 5, 6, 7, 8)\n",
    "sub_tuple = (3, 4, 5)\n",
    "result = contains_subsequence(main_tuple, sub_tuple)\n",
    "print(result)  \n"
   ]
  },
  {
   "cell_type": "code",
   "execution_count": null,
   "id": "61f1d150-ab7b-45e8-9b89-c5546b4207ba",
   "metadata": {},
   "outputs": [],
   "source": [
    "n = 10  \n",
    "\n",
    "alternating_tuple = tuple((i % 2) for i in range(n))\n",
    "\n",
    "print(alternating_tuple)\n"
   ]
  },
  {
   "cell_type": "code",
   "execution_count": null,
   "id": "7c37764d-4429-4951-bd4c-35924e5a4589",
   "metadata": {},
   "outputs": [],
   "source": [
    "Set Based Practice Problem"
   ]
  },
  {
   "cell_type": "code",
   "execution_count": null,
   "id": "50e1008b-3246-4141-9c16-2a6de141b7b7",
   "metadata": {},
   "outputs": [],
   "source": [
    "my_set = {1, 2, 3, 4, 5}\n"
   ]
  },
  {
   "cell_type": "code",
   "execution_count": null,
   "id": "97de962d-7401-4d1f-a69c-44a7a3c80c9e",
   "metadata": {},
   "outputs": [],
   "source": [
    "my_set = {1, 2, 3, 4, 5}\n",
    "element_to_add = 6\n",
    "my_set.add(element_to_add)\n",
    "print(my_set)\n"
   ]
  },
  {
   "cell_type": "code",
   "execution_count": null,
   "id": "43f77bed-45c0-4985-9120-cbde6997a45e",
   "metadata": {},
   "outputs": [],
   "source": [
    "my_set = {1, 2, 3, 4, 5}\n",
    "element_to_remove = 3\n",
    "\n",
    "my_set.discard(element_to_remove)\n",
    "print(my_set)\n"
   ]
  },
  {
   "cell_type": "code",
   "execution_count": null,
   "id": "4c29d459-1577-4fd5-a0c8-40221b1724df",
   "metadata": {},
   "outputs": [],
   "source": [
    "my_set = {1, 2, 3, 4, 5}\n",
    "element_to_check = 3\n",
    "\n",
    "if my_set.__contains__(element_to_check):\n",
    "    print(f\"{element_to_check} exists in the set\")\n",
    "else:\n",
    "    print(f\"{element_to_check} does not exist in the set\")\n"
   ]
  },
  {
   "cell_type": "code",
   "execution_count": null,
   "id": "ab7b753c-b2c0-4134-a56b-d26aeed1f464",
   "metadata": {},
   "outputs": [],
   "source": [
    "my_set = {1, 2, 3, 4, 5}\n",
    "count = 0\n",
    "\n",
    "for _ in my_set:\n",
    "    count += 1\n",
    "\n",
    "print(\"The length of the set is:\", count)\n"
   ]
  },
  {
   "cell_type": "code",
   "execution_count": null,
   "id": "f1b147d9-73ac-4f80-bcdc-edb3604998ad",
   "metadata": {},
   "outputs": [],
   "source": [
    "my_set = {1, 2, 3, 4, 5}\n",
    "my_set.clear()\n",
    "print(my_set)  \n"
   ]
  },
  {
   "cell_type": "code",
   "execution_count": null,
   "id": "406fcede-0b95-4a27-81dc-a91a0f47e394",
   "metadata": {},
   "outputs": [],
   "source": [
    "even_numbers_set = {x for x in range(1, 11) if x % 2 == 0}\n",
    "print(even_numbers_set)\n"
   ]
  },
  {
   "cell_type": "code",
   "execution_count": null,
   "id": "5b7cb67e-bf32-4094-8f8e-1199a27560e5",
   "metadata": {},
   "outputs": [],
   "source": [
    "odd_numbers_set = {x for x in range(1, 11) if x % 2 != 0}\n",
    "print(odd_numbers_set)\n"
   ]
  },
  {
   "cell_type": "code",
   "execution_count": null,
   "id": "76a2da11-644d-4876-9110-c08b7c453582",
   "metadata": {},
   "outputs": [],
   "source": [
    "set1 = {1, 2, 3, 4}\n",
    "set2 = {3, 4, 5, 6}\n",
    "\n",
    "union_set = set1.union(set2)\n",
    "print(union_set)\n"
   ]
  },
  {
   "cell_type": "code",
   "execution_count": null,
   "id": "b3ef2dba-7219-46f1-bd16-a20827cf9d20",
   "metadata": {},
   "outputs": [],
   "source": [
    "set1 = {1, 2, 3, 4}\n",
    "set2 = {3, 4, 5, 6}\n",
    "\n",
    "intersection_set = set1 & set2\n",
    "print(intersection_set)\n"
   ]
  },
  {
   "cell_type": "code",
   "execution_count": null,
   "id": "7509ab8c-2797-42c2-9fec-ea732a8d1a87",
   "metadata": {},
   "outputs": [],
   "source": [
    "set1 = {1, 2, 3, 4}\n",
    "set2 = {3, 4, 5, 6}\n",
    "\n",
    "difference_set = set1 - set2\n",
    "print(difference_set)\n"
   ]
  },
  {
   "cell_type": "code",
   "execution_count": null,
   "id": "d3738b41-ae91-49a9-b64e-e39d76f86c43",
   "metadata": {},
   "outputs": [],
   "source": [
    "set1 = {1, 2, 3, 4}\n",
    "set2 = {2, 3}\n",
    "\n",
    "is_subset = set2.issubset(set1)\n",
    "\n",
    "if is_subset:\n",
    "    print(\"set2 is a subset of set1\")\n",
    "else:\n",
    "    print(\"set2 is not a subset of set1\")\n"
   ]
  },
  {
   "cell_type": "code",
   "execution_count": null,
   "id": "3031b934-700a-4ff5-add6-269a88704041",
   "metadata": {},
   "outputs": [],
   "source": [
    "set1 = {1, 2, 3, 4}\n",
    "set2 = {2, 3}\n",
    "\n",
    "is_superset = set1 >= set2\n",
    "\n",
    "if is_superset:\n",
    "    print(\"set1 is a superset of set2\")\n",
    "else:\n",
    "    print(\"set1 is not a superset of set2\")\n"
   ]
  },
  {
   "cell_type": "code",
   "execution_count": null,
   "id": "cd257769-0cd1-4394-a6f3-ddb5a63f0e2c",
   "metadata": {},
   "outputs": [],
   "source": [
    "my_list = [1, 2, 3, 4, 5]\n",
    "my_set = set(my_list)\n",
    "print(my_set)\n"
   ]
  },
  {
   "cell_type": "code",
   "execution_count": null,
   "id": "b32ee7a3-d9f4-409b-bd79-5376d9a5b7b3",
   "metadata": {},
   "outputs": [],
   "source": [
    "my_set = {1, 2, 3, 4, 5}\n",
    "my_list = list(my_set)\n",
    "print(my_list)\n"
   ]
  },
  {
   "cell_type": "code",
   "execution_count": null,
   "id": "61192da5-d0e6-4855-b1a0-ab8258b64f76",
   "metadata": {},
   "outputs": [],
   "source": [
    "my_set = {1, 2, 3, 4, 5}\n",
    "random_element = my_set.pop()\n",
    "print(\"Removed element:\", random_element)\n",
    "print(\"Updated set:\", my_set)\n"
   ]
  },
  {
   "cell_type": "code",
   "execution_count": null,
   "id": "e9134022-b742-4c51-98aa-af5088717816",
   "metadata": {},
   "outputs": [],
   "source": [
    "my_set = {1, 2, 3, 4, 5}\n",
    "popped_element = my_set.pop()\n",
    "print(\"Popped element:\", popped_element)\n",
    "print(\"Updated set:\", my_set)\n"
   ]
  },
  {
   "cell_type": "code",
   "execution_count": null,
   "id": "f646d714-eea2-4733-919f-226a5b2539e5",
   "metadata": {},
   "outputs": [],
   "source": [
    "set1 = {1, 2, 3}\n",
    "set2 = {4, 5, 6}\n",
    "\n",
    "if set1.isdisjoint(set2):\n",
    "    print(\"The sets have no elements in common.\")\n",
    "else:\n",
    "    print(\"The sets have at least one element in common.\")\n"
   ]
  },
  {
   "cell_type": "code",
   "execution_count": null,
   "id": "dd1ae4d3-4e8a-4bda-b879-a7dc4bd13191",
   "metadata": {},
   "outputs": [],
   "source": [
    "set1 = {1, 2, 3, 4}\n",
    "set2 = {3, 4, 5, 6}\n",
    "\n",
    "symmetric_difference_set = set1.symmetric_difference(set2)\n",
    "print(symmetric_difference_set)\n"
   ]
  },
  {
   "cell_type": "code",
   "execution_count": null,
   "id": "fcf01654-d5f6-4ff5-ac71-3cc74c14bf75",
   "metadata": {},
   "outputs": [],
   "source": [
    "set1 = {1, 2, 3, 4}\n",
    "set2 = {3, 4, 5, 6}\n",
    "\n",
    "set1.update(set2)\n",
    "print(set1)\n"
   ]
  },
  {
   "cell_type": "code",
   "execution_count": null,
   "id": "309eb6f2-6f98-4d49-ab61-8b175cd270a4",
   "metadata": {},
   "outputs": [],
   "source": [
    "prime_set = {2, 3, 5, 7, 11}\n"
   ]
  },
  {
   "cell_type": "code",
   "execution_count": null,
   "id": "ca5fa3e6-e56f-4a69-87eb-bde5dc424a93",
   "metadata": {},
   "outputs": [],
   "source": [
    "set1 = {1, 2, 3, 4}\n",
    "set2 = {4, 3, 2, 1}\n",
    "\n",
    "if set1 == set2:\n",
    "    print(\"The sets are identical.\")\n",
    "else:\n",
    "    print(\"The sets are not identical.\")\n"
   ]
  },
  {
   "cell_type": "code",
   "execution_count": null,
   "id": "088b73ab-6501-47e1-a673-800b28f679b0",
   "metadata": {},
   "outputs": [],
   "source": [
    "my_set = {1, 2, 3, 4, 5}\n",
    "my_frozen_set = frozenset(my_set)\n"
   ]
  },
  {
   "cell_type": "code",
   "execution_count": null,
   "id": "780f7c3e-62f6-4e93-8fa6-9dcd027cd9ee",
   "metadata": {},
   "outputs": [],
   "source": [
    "set1 = {1, 2, 3}\n",
    "set2 = {4, 5, 6}\n",
    "\n",
    "if set1.isdisjoint(set2):\n",
    "    print(\"The sets are disjoint (have no elements in common).\")\n",
    "else:\n",
    "    print(\"The sets have at least one element in common.\")\n"
   ]
  },
  {
   "cell_type": "code",
   "execution_count": null,
   "id": "808ee13b-5f06-4aac-bbff-6e93c21ba6d6",
   "metadata": {},
   "outputs": [],
   "source": [
    "squares_set = {x**2 for x in range(1, 6)}\n",
    "print(squares_set)\n"
   ]
  },
  {
   "cell_type": "code",
   "execution_count": null,
   "id": "d3d04a47-b763-4992-8474-f649e28a1ee8",
   "metadata": {},
   "outputs": [],
   "source": [
    "original_set = {1, 2, 3, 4, 5, 6, 7, 8, 9, 10}\n",
    "\n",
    "filtered_set = {x for x in original_set if x % 2 != 0}\n",
    "\n",
    "print(filtered_set)\n"
   ]
  },
  {
   "cell_type": "code",
   "execution_count": null,
   "id": "d574024d-f10a-450e-90e4-26ebf7cd431a",
   "metadata": {},
   "outputs": [],
   "source": [
    "original_set = {1, 2, 3, 4, 5}\n",
    "\n",
    "result_set = {x * 2 for x in original_set}\n",
    "\n",
    "print(result_set)\n"
   ]
  },
  {
   "cell_type": "code",
   "execution_count": null,
   "id": "2f536d78-40da-4105-8477-c881e09b51c5",
   "metadata": {},
   "outputs": [],
   "source": [
    "import random\n",
    "\n",
    "random_set = set()\n",
    "for _ in range(10):  \n",
    "    random_number = random.randint(1, 100)  \n",
    "    random_set.add(random_number)\n",
    "\n",
    "print(random_set)\n"
   ]
  },
  {
   "cell_type": "code",
   "execution_count": null,
   "id": "8d311017-8f88-412d-8b0b-25ebc95e6233",
   "metadata": {},
   "outputs": [],
   "source": [
    "my_set = set()\n",
    "\n",
    "if len(my_set) == 0:\n",
    "    print(\"The set is empty\")\n",
    "else:\n",
    "    print(\"The set is not empty\")\n"
   ]
  },
  {
   "cell_type": "code",
   "execution_count": null,
   "id": "66191919-dea5-4ec7-a2b7-cf9ddeb2bebe",
   "metadata": {},
   "outputs": [],
   "source": [
    "nested_frozen_set = {\n",
    "    'set1': frozenset([1, 2, 3]),\n",
    "    'set2': frozenset([4, 5, 6]),\n",
    "    'set3': frozenset([7, 8, 9])\n",
    "}\n",
    "\n",
    "print(nested_frozen_set['set1'])  \n"
   ]
  },
  {
   "cell_type": "code",
   "execution_count": null,
   "id": "2f7529c9-663c-4282-872d-b63a082ccf9c",
   "metadata": {},
   "outputs": [],
   "source": [
    "my_set = {1, 2, 3, 4, 5}\n",
    "element_to_remove = 3\n",
    "\n",
    "my_set.discard(element_to_remove)\n",
    "print(my_set)\n"
   ]
  },
  {
   "cell_type": "code",
   "execution_count": null,
   "id": "d31a6b87-edaf-4d40-8cfd-0e67eabf0329",
   "metadata": {},
   "outputs": [],
   "source": [
    "set1 = {1, 2, 3, 4}\n",
    "set2 = {3, 4, 1, 2}\n",
    "\n",
    "if set1 == set2:\n",
    "    print(\"The sets are equal.\")\n",
    "else:\n",
    "    print(\"The sets are not equal.\")\n"
   ]
  },
  {
   "cell_type": "code",
   "execution_count": null,
   "id": "ab8507e9-5e34-48a6-bb45-7641f673019e",
   "metadata": {},
   "outputs": [],
   "source": [
    "my_string = \"hello\"\n",
    "my_set = {char for char in my_string}\n",
    "print(my_set)\n"
   ]
  },
  {
   "cell_type": "code",
   "execution_count": null,
   "id": "137cedf9-ab1f-4232-b379-65077d610816",
   "metadata": {},
   "outputs": [],
   "source": [
    "string_set = {\"1\", \"2\", \"3\", \"4\", \"5\"}\n",
    "integer_set = {int(x) for x in string_set}\n"
   ]
  },
  {
   "cell_type": "code",
   "execution_count": null,
   "id": "7e3afc98-d447-465d-8048-4d73c482362f",
   "metadata": {},
   "outputs": [],
   "source": [
    "integer_set = {1, 2, 3, 4, 5}\n",
    "string_set = {str(x) for x in integer_set}\n"
   ]
  },
  {
   "cell_type": "code",
   "execution_count": null,
   "id": "d459c98d-6618-4d72-bd71-e7259b2834ef",
   "metadata": {},
   "outputs": [],
   "source": [
    "my_tuple = (1, 2, 3, 4, 5)\n",
    "my_set = set(my_tuple)\n"
   ]
  },
  {
   "cell_type": "code",
   "execution_count": null,
   "id": "cd8ca78a-7bd4-49b9-91fa-1be69b2bdb8c",
   "metadata": {},
   "outputs": [],
   "source": [
    "my_set = {1, 2, 3, 4, 5}\n",
    "my_tuple = tuple(my_set)\n"
   ]
  },
  {
   "cell_type": "code",
   "execution_count": null,
   "id": "9e2c7993-4be1-4003-a90b-0352e1522bdd",
   "metadata": {},
   "outputs": [],
   "source": [
    "my_set = {10, 5, 8, 15, 20, 3}\n",
    "\n",
    "max_value = max(my_set)\n",
    "print(\"The maximum value in the set is:\", max_value)\n"
   ]
  },
  {
   "cell_type": "code",
   "execution_count": null,
   "id": "b597772d-1a78-44c2-b2b2-ece2c43977e8",
   "metadata": {},
   "outputs": [],
   "source": [
    "my_set = {10, 5, 8, 15, 20, 3}\n",
    "\n",
    "max_value = max(my_set)\n",
    "print(\"The maximum value in the set is:\", max_value)\n"
   ]
  },
  {
   "cell_type": "code",
   "execution_count": null,
   "id": "126e5325-fff7-40f9-8f09-8935079d5958",
   "metadata": {},
   "outputs": [],
   "source": [
    "my_set = {10, 5, 8, 15, 20, 3}\n",
    "\n",
    "min_value = min(my_set)\n",
    "print(\"The minimum value in the set is:\", min_value)\n"
   ]
  },
  {
   "cell_type": "code",
   "execution_count": null,
   "id": "39bc5e3a-113c-4a7d-9172-41c6a9ce1702",
   "metadata": {},
   "outputs": [],
   "source": [
    "user_set = set()  \n",
    "\n",
    "while True:\n",
    "    user_input = input(\"Enter an element (or type 'done' to finish): \")\n",
    "    \n",
    "    if user_input.lower() == 'done':\n",
    "        break  \n",
    "    \n",
    "    try:\n",
    "        element = int(user_input)  \n",
    "        user_set.add(element)  \n",
    "    except ValueError:\n",
    "        print(\"Invalid input. Please enter a valid integer.\")\n",
    "\n",
    "print(\"User set:\", user_set)\n"
   ]
  },
  {
   "cell_type": "code",
   "execution_count": null,
   "id": "74501e91-f486-4032-883a-1a4c7605c4db",
   "metadata": {},
   "outputs": [],
   "source": [
    "set1 = {1, 2, 3, 4}\n",
    "set2 = {5, 6, 7, 8}\n",
    "\n",
    "intersection = set1 & set2  \n",
    "if not intersection:\n",
    "    print(\"The intersection of set1 and set2 is empty.\")\n",
    "else:\n",
    "    print(\"The intersection of set1 and set2 is not empty.\")\n"
   ]
  },
  {
   "cell_type": "code",
   "execution_count": null,
   "id": "52295a95-0536-4ff8-ba50-480d11cde1e6",
   "metadata": {},
   "outputs": [],
   "source": [
    "fib_set = set()\n",
    "a, b = 0, 1  \n",
    "\n",
    "for _ in range(5):\n",
    "    fib_set.add(a)\n",
    "    a, b = b, a + b  \n",
    "\n",
    "print(fib_set)\n"
   ]
  },
  {
   "cell_type": "code",
   "execution_count": null,
   "id": "1f5c2414-373d-4913-beaf-76e0e311b6ce",
   "metadata": {},
   "outputs": [],
   "source": [
    "my_list = [1, 2, 2, 3, 4, 4, 5]\n",
    "\n",
    "unique_list = list(set(my_list))\n",
    "\n",
    "print(unique_list)\n"
   ]
  },
  {
   "cell_type": "code",
   "execution_count": null,
   "id": "91b86207-1fb8-4053-b451-4ce0331c1d49",
   "metadata": {},
   "outputs": [],
   "source": [
    "set1 = {1, 2, 3, 4, 5}\n",
    "set2 = {3, 5, 2, 1, 4}\n",
    "\n",
    "if set1 == set2:\n",
    "    print(\"The sets have the same elements regardless of their count.\")\n",
    "else:\n",
    "    print(\"The sets have different elements.\")\n"
   ]
  },
  {
   "cell_type": "code",
   "execution_count": null,
   "id": "93801893-0a30-4696-a1cd-1ae2da7c9e95",
   "metadata": {},
   "outputs": [],
   "source": [
    "n = 5  \n",
    "powers_of_2_set = set()\n",
    "\n",
    "for i in range(n):\n",
    "    power_of_2 = 2 ** i\n",
    "    powers_of_2_set.add(power_of_2)\n",
    "\n",
    "print(powers_of_2_set)\n"
   ]
  },
  {
   "cell_type": "code",
   "execution_count": null,
   "id": "4115435a-7557-4fcc-b956-3705e04e160e",
   "metadata": {},
   "outputs": [],
   "source": [
    "\n",
    "my_set = {1, 2, 3, 4, 5}\n",
    "my_list = [3, 4, 5, 6, 7]\n",
    "\n",
    "common_elements = my_set.intersection(my_list)\n",
    "\n",
    "common_elements_list = list(common_elements)\n",
    "\n",
    "print(\"Common elements:\", common_elements_list)\n"
   ]
  },
  {
   "cell_type": "code",
   "execution_count": null,
   "id": "26f74771-dee9-42c1-9fcb-9463c528109b",
   "metadata": {},
   "outputs": [],
   "source": [
    "n = 5  \n",
    "triangular_numbers_set = {i * (i + 1) // 2 for i in range(1, n + 1)}\n",
    "\n",
    "print(triangular_numbers_set)\n"
   ]
  },
  {
   "cell_type": "code",
   "execution_count": null,
   "id": "20c728b9-7e4f-4b7b-aa05-8a9a12a47e6b",
   "metadata": {},
   "outputs": [],
   "source": [
    "\n",
    "set1 = {1, 2, 3, 4, 5}\n",
    "set2 = {3, 4}\n",
    "\n",
    "is_subset = set2.issubset(set1)  \n",
    "\n",
    "if is_subset:\n",
    "    print(\"set2 is a subset of set1.\")\n",
    "else:\n",
    "    print(\"set2 is not a subset of set1.\")\n"
   ]
  },
  {
   "cell_type": "code",
   "execution_count": null,
   "id": "878967b0-9be9-44ef-9797-731aaa5d1f5f",
   "metadata": {},
   "outputs": [],
   "source": [
    "n = 10  \n",
    "alternating_set = set()\n",
    "\n",
    "for i in range(n):\n",
    "    alternating_set.add(i % 2)\n",
    "\n",
    "print(alternating_set)\n"
   ]
  },
  {
   "cell_type": "code",
   "execution_count": null,
   "id": "ce1e1e1a-324e-4abd-8ebb-7cbc448b8d98",
   "metadata": {},
   "outputs": [],
   "source": [
    "set1 = {1, 2, 3}\n",
    "set2 = {3, 4, 5}\n",
    "set3 = {5, 6, 7}\n",
    "\n",
    "merged_set = set1.union(set2, set3)\n",
    "\n",
    "print(merged_set)\n"
   ]
  }
 ],
 "metadata": {
  "kernelspec": {
   "display_name": "Python 3 (ipykernel)",
   "language": "python",
   "name": "python3"
  },
  "language_info": {
   "codemirror_mode": {
    "name": "ipython",
    "version": 3
   },
   "file_extension": ".py",
   "mimetype": "text/x-python",
   "name": "python",
   "nbconvert_exporter": "python",
   "pygments_lexer": "ipython3",
   "version": "3.10.8"
  }
 },
 "nbformat": 4,
 "nbformat_minor": 5
}
